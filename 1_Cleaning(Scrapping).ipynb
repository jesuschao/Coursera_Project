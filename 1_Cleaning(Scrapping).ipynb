{
 "cells": [
  {
   "cell_type": "markdown",
   "id": "649336e9",
   "metadata": {},
   "source": [
    "# Cleaning"
   ]
  },
  {
   "cell_type": "markdown",
   "id": "83d55252",
   "metadata": {},
   "source": [
    "## Import Libraries"
   ]
  },
  {
   "cell_type": "code",
   "execution_count": 3,
   "id": "97c77ff6",
   "metadata": {},
   "outputs": [],
   "source": [
    "import pandas as pd\n",
    "import re"
   ]
  },
  {
   "cell_type": "code",
   "execution_count": 4,
   "id": "3d0c806d",
   "metadata": {},
   "outputs": [],
   "source": [
    "# Cleaning functions (py file) placed in src folder.\n",
    "import sys\n",
    "sys.path.append(\"/\")\n",
    "from src.cleaning import *"
   ]
  },
  {
   "cell_type": "markdown",
   "id": "00db9ce9",
   "metadata": {},
   "source": [
    "## Import data from scrapping"
   ]
  },
  {
   "cell_type": "code",
   "execution_count": 5,
   "id": "a7f9da94",
   "metadata": {},
   "outputs": [],
   "source": [
    "mysql = pd.read_csv(\"mysql.csv\")"
   ]
  },
  {
   "cell_type": "code",
   "execution_count": 6,
   "id": "a79f2b98",
   "metadata": {},
   "outputs": [],
   "source": [
    "mongo = pd.read_csv(\"mongo.csv\")"
   ]
  },
  {
   "cell_type": "code",
   "execution_count": 7,
   "id": "d65e7432",
   "metadata": {},
   "outputs": [],
   "source": [
    "tableau = pd.read_csv(\"tableau.csv\")"
   ]
  },
  {
   "cell_type": "code",
   "execution_count": 8,
   "id": "da1cd300",
   "metadata": {},
   "outputs": [],
   "source": [
    "python = pd.read_csv(\"python.csv\")"
   ]
  },
  {
   "cell_type": "code",
   "execution_count": 9,
   "id": "50194583",
   "metadata": {},
   "outputs": [],
   "source": [
    "ml = pd.read_csv(\"machine_learning.csv\")"
   ]
  },
  {
   "cell_type": "code",
   "execution_count": 10,
   "id": "f07770b1",
   "metadata": {},
   "outputs": [],
   "source": [
    "java = pd.read_csv(\"java.csv\")"
   ]
  },
  {
   "cell_type": "code",
   "execution_count": 11,
   "id": "ee7e90e5",
   "metadata": {},
   "outputs": [],
   "source": [
    "courses = pd.concat([mysql, mongo, tableau, python, ml, java])"
   ]
  },
  {
   "cell_type": "code",
   "execution_count": 12,
   "id": "bcc16bc8",
   "metadata": {},
   "outputs": [],
   "source": [
    "courses = courses.reset_index()"
   ]
  },
  {
   "cell_type": "code",
   "execution_count": 13,
   "id": "a30cae3c",
   "metadata": {},
   "outputs": [],
   "source": [
    "courses.drop('Unnamed: 0', axis=1, inplace=True)"
   ]
  },
  {
   "cell_type": "code",
   "execution_count": 14,
   "id": "4a6684d9",
   "metadata": {},
   "outputs": [],
   "source": [
    "courses.drop('index', axis=1, inplace=True)"
   ]
  },
  {
   "cell_type": "markdown",
   "id": "8e879e05",
   "metadata": {},
   "source": [
    "## Evaluation of data"
   ]
  },
  {
   "cell_type": "code",
   "execution_count": 15,
   "id": "d1593545",
   "metadata": {},
   "outputs": [
    {
     "data": {
      "text/plain": [
       "(3140, 6)"
      ]
     },
     "execution_count": 15,
     "metadata": {},
     "output_type": "execute_result"
    }
   ],
   "source": [
    "courses.shape"
   ]
  },
  {
   "cell_type": "code",
   "execution_count": 16,
   "id": "5cc2204b",
   "metadata": {},
   "outputs": [
    {
     "data": {
      "text/html": [
       "<div>\n",
       "<style scoped>\n",
       "    .dataframe tbody tr th:only-of-type {\n",
       "        vertical-align: middle;\n",
       "    }\n",
       "\n",
       "    .dataframe tbody tr th {\n",
       "        vertical-align: top;\n",
       "    }\n",
       "\n",
       "    .dataframe thead th {\n",
       "        text-align: right;\n",
       "    }\n",
       "</style>\n",
       "<table border=\"1\" class=\"dataframe\">\n",
       "  <thead>\n",
       "    <tr style=\"text-align: right;\">\n",
       "      <th></th>\n",
       "      <th>course</th>\n",
       "      <th>rating</th>\n",
       "      <th>students</th>\n",
       "      <th>level</th>\n",
       "      <th>university</th>\n",
       "      <th>skills</th>\n",
       "    </tr>\n",
       "  </thead>\n",
       "  <tbody>\n",
       "    <tr>\n",
       "      <th>0</th>\n",
       "      <td>Learn SQL Basics for Data Science</td>\n",
       "      <td>4.6</td>\n",
       "      <td>400 mil</td>\n",
       "      <td>Beginner</td>\n",
       "      <td>University of California, Davis</td>\n",
       "      <td>MySQL</td>\n",
       "    </tr>\n",
       "    <tr>\n",
       "      <th>1</th>\n",
       "      <td>Excel to MySQL: Analytic Techniques for Business</td>\n",
       "      <td>4.6</td>\n",
       "      <td>660 mil</td>\n",
       "      <td>Beginner</td>\n",
       "      <td>Duke University</td>\n",
       "      <td>MySQL</td>\n",
       "    </tr>\n",
       "    <tr>\n",
       "      <th>2</th>\n",
       "      <td>Introduction to Structured Query Language (SQL)</td>\n",
       "      <td>4.8</td>\n",
       "      <td>140 mil</td>\n",
       "      <td>Intermediate</td>\n",
       "      <td>University of Michigan</td>\n",
       "      <td>MySQL</td>\n",
       "    </tr>\n",
       "  </tbody>\n",
       "</table>\n",
       "</div>"
      ],
      "text/plain": [
       "                                             course rating students  \\\n",
       "0                 Learn SQL Basics for Data Science    4.6  400 mil   \n",
       "1  Excel to MySQL: Analytic Techniques for Business    4.6  660 mil   \n",
       "2   Introduction to Structured Query Language (SQL)    4.8  140 mil   \n",
       "\n",
       "          level                       university skills  \n",
       "0      Beginner  University of California, Davis  MySQL  \n",
       "1      Beginner                  Duke University  MySQL  \n",
       "2  Intermediate           University of Michigan  MySQL  "
      ]
     },
     "execution_count": 16,
     "metadata": {},
     "output_type": "execute_result"
    }
   ],
   "source": [
    "courses.head(3)"
   ]
  },
  {
   "cell_type": "code",
   "execution_count": 17,
   "id": "705d90dd",
   "metadata": {},
   "outputs": [
    {
     "name": "stdout",
     "output_type": "stream",
     "text": [
      "<class 'pandas.core.frame.DataFrame'>\n",
      "RangeIndex: 3140 entries, 0 to 3139\n",
      "Data columns (total 6 columns):\n",
      " #   Column      Non-Null Count  Dtype \n",
      "---  ------      --------------  ----- \n",
      " 0   course      3140 non-null   object\n",
      " 1   rating      3140 non-null   object\n",
      " 2   students    3140 non-null   object\n",
      " 3   level       3140 non-null   object\n",
      " 4   university  3140 non-null   object\n",
      " 5   skills      3140 non-null   object\n",
      "dtypes: object(6)\n",
      "memory usage: 147.3+ KB\n"
     ]
    }
   ],
   "source": [
    "courses.info()"
   ]
  },
  {
   "cell_type": "code",
   "execution_count": 18,
   "id": "2f42ed2b",
   "metadata": {},
   "outputs": [],
   "source": [
    "# Check if I have duplicated courses obtained from my different courses search."
   ]
  },
  {
   "cell_type": "code",
   "execution_count": 19,
   "id": "b340f216",
   "metadata": {},
   "outputs": [],
   "source": [
    "# Hago una comprobación para ver si tengo cursos repetidos en mis búsquedas de los diferentes cursos."
   ]
  },
  {
   "cell_type": "code",
   "execution_count": 20,
   "id": "06949bba",
   "metadata": {},
   "outputs": [],
   "source": [
    "no_skills= courses.drop(['skills'], axis=1)"
   ]
  },
  {
   "cell_type": "code",
   "execution_count": 21,
   "id": "0c050842",
   "metadata": {},
   "outputs": [
    {
     "data": {
      "text/html": [
       "<div>\n",
       "<style scoped>\n",
       "    .dataframe tbody tr th:only-of-type {\n",
       "        vertical-align: middle;\n",
       "    }\n",
       "\n",
       "    .dataframe tbody tr th {\n",
       "        vertical-align: top;\n",
       "    }\n",
       "\n",
       "    .dataframe thead th {\n",
       "        text-align: right;\n",
       "    }\n",
       "</style>\n",
       "<table border=\"1\" class=\"dataframe\">\n",
       "  <thead>\n",
       "    <tr style=\"text-align: right;\">\n",
       "      <th></th>\n",
       "      <th>course</th>\n",
       "      <th>rating</th>\n",
       "      <th>students</th>\n",
       "      <th>level</th>\n",
       "      <th>university</th>\n",
       "    </tr>\n",
       "  </thead>\n",
       "  <tbody>\n",
       "    <tr>\n",
       "      <th>0</th>\n",
       "      <td>Learn SQL Basics for Data Science</td>\n",
       "      <td>4.6</td>\n",
       "      <td>400 mil</td>\n",
       "      <td>Beginner</td>\n",
       "      <td>University of California, Davis</td>\n",
       "    </tr>\n",
       "    <tr>\n",
       "      <th>1</th>\n",
       "      <td>Excel to MySQL: Analytic Techniques for Business</td>\n",
       "      <td>4.6</td>\n",
       "      <td>660 mil</td>\n",
       "      <td>Beginner</td>\n",
       "      <td>Duke University</td>\n",
       "    </tr>\n",
       "    <tr>\n",
       "      <th>2</th>\n",
       "      <td>Introduction to Structured Query Language (SQL)</td>\n",
       "      <td>4.8</td>\n",
       "      <td>140 mil</td>\n",
       "      <td>Intermediate</td>\n",
       "      <td>University of Michigan</td>\n",
       "    </tr>\n",
       "    <tr>\n",
       "      <th>3</th>\n",
       "      <td>Managing Big Data with MySQL</td>\n",
       "      <td>4.7</td>\n",
       "      <td>170 mil</td>\n",
       "      <td>Mixed</td>\n",
       "      <td>Duke University</td>\n",
       "    </tr>\n",
       "    <tr>\n",
       "      <th>4</th>\n",
       "      <td>Building a Dynamic Web App using PHP &amp; MySQL</td>\n",
       "      <td>4.4</td>\n",
       "      <td>5,8 mil</td>\n",
       "      <td>Beginner</td>\n",
       "      <td>Coursera Project Network</td>\n",
       "    </tr>\n",
       "  </tbody>\n",
       "</table>\n",
       "</div>"
      ],
      "text/plain": [
       "                                             course rating students  \\\n",
       "0                 Learn SQL Basics for Data Science    4.6  400 mil   \n",
       "1  Excel to MySQL: Analytic Techniques for Business    4.6  660 mil   \n",
       "2   Introduction to Structured Query Language (SQL)    4.8  140 mil   \n",
       "3                      Managing Big Data with MySQL    4.7  170 mil   \n",
       "4      Building a Dynamic Web App using PHP & MySQL    4.4  5,8 mil   \n",
       "\n",
       "          level                       university  \n",
       "0      Beginner  University of California, Davis  \n",
       "1      Beginner                  Duke University  \n",
       "2  Intermediate           University of Michigan  \n",
       "3         Mixed                  Duke University  \n",
       "4      Beginner         Coursera Project Network  "
      ]
     },
     "execution_count": 21,
     "metadata": {},
     "output_type": "execute_result"
    }
   ],
   "source": [
    "no_skills.head()"
   ]
  },
  {
   "cell_type": "code",
   "execution_count": 22,
   "id": "98c50eb8",
   "metadata": {},
   "outputs": [],
   "source": [
    "# These are the duplicated lists\n",
    "df = no_skills[no_skills.duplicated(keep=False)]\n",
    "\n",
    "df = df.groupby(df.columns.tolist()).apply(lambda x: x.index.tolist()).values.tolist()"
   ]
  },
  {
   "cell_type": "code",
   "execution_count": 23,
   "id": "5d5c0141",
   "metadata": {},
   "outputs": [],
   "source": [
    "flat_list = []\n",
    "for l in df:\n",
    "    for item in l:\n",
    "        flat_list.append(item)"
   ]
  },
  {
   "cell_type": "code",
   "execution_count": 24,
   "id": "3155a77d",
   "metadata": {},
   "outputs": [],
   "source": [
    "duplicated = courses.iloc[flat_list]"
   ]
  },
  {
   "cell_type": "code",
   "execution_count": 25,
   "id": "74a6e5f7",
   "metadata": {},
   "outputs": [
    {
     "data": {
      "text/html": [
       "<div>\n",
       "<style scoped>\n",
       "    .dataframe tbody tr th:only-of-type {\n",
       "        vertical-align: middle;\n",
       "    }\n",
       "\n",
       "    .dataframe tbody tr th {\n",
       "        vertical-align: top;\n",
       "    }\n",
       "\n",
       "    .dataframe thead th {\n",
       "        text-align: right;\n",
       "    }\n",
       "</style>\n",
       "<table border=\"1\" class=\"dataframe\">\n",
       "  <thead>\n",
       "    <tr style=\"text-align: right;\">\n",
       "      <th></th>\n",
       "      <th>course</th>\n",
       "      <th>rating</th>\n",
       "      <th>students</th>\n",
       "      <th>level</th>\n",
       "      <th>university</th>\n",
       "      <th>skills</th>\n",
       "    </tr>\n",
       "  </thead>\n",
       "  <tbody>\n",
       "    <tr>\n",
       "      <th>860</th>\n",
       "      <td>2.- El Cálculo - Modelo Cuadrático</td>\n",
       "      <td>4.8</td>\n",
       "      <td>16 mil</td>\n",
       "      <td>Mixed</td>\n",
       "      <td>Tecnológico de Monterrey</td>\n",
       "      <td>Python</td>\n",
       "    </tr>\n",
       "    <tr>\n",
       "      <th>1955</th>\n",
       "      <td>2.- El Cálculo - Modelo Cuadrático</td>\n",
       "      <td>4.8</td>\n",
       "      <td>16 mil</td>\n",
       "      <td>Mixed</td>\n",
       "      <td>Tecnológico de Monterrey</td>\n",
       "      <td>Machine Learning</td>\n",
       "    </tr>\n",
       "    <tr>\n",
       "      <th>764</th>\n",
       "      <td>AI Capstone Project with Deep Learning</td>\n",
       "      <td>4.5</td>\n",
       "      <td>10 mil</td>\n",
       "      <td>Advanced</td>\n",
       "      <td>IBM</td>\n",
       "      <td>Python</td>\n",
       "    </tr>\n",
       "    <tr>\n",
       "      <th>1704</th>\n",
       "      <td>AI Capstone Project with Deep Learning</td>\n",
       "      <td>4.5</td>\n",
       "      <td>10 mil</td>\n",
       "      <td>Advanced</td>\n",
       "      <td>IBM</td>\n",
       "      <td>Machine Learning</td>\n",
       "    </tr>\n",
       "    <tr>\n",
       "      <th>1368</th>\n",
       "      <td>AI For Everyone</td>\n",
       "      <td>4.8</td>\n",
       "      <td>750 mil</td>\n",
       "      <td>Beginner</td>\n",
       "      <td>DeepLearning.AI</td>\n",
       "      <td>Machine Learning</td>\n",
       "    </tr>\n",
       "    <tr>\n",
       "      <th>...</th>\n",
       "      <td>...</td>\n",
       "      <td>...</td>\n",
       "      <td>...</td>\n",
       "      <td>...</td>\n",
       "      <td>...</td>\n",
       "      <td>...</td>\n",
       "    </tr>\n",
       "    <tr>\n",
       "      <th>1932</th>\n",
       "      <td>모두를 위한 머신 러닝</td>\n",
       "      <td>None</td>\n",
       "      <td>None</td>\n",
       "      <td>Beginner</td>\n",
       "      <td>University of London</td>\n",
       "      <td>Machine Learning</td>\n",
       "    </tr>\n",
       "    <tr>\n",
       "      <th>1940</th>\n",
       "      <td>신경망 및 딥 러닝</td>\n",
       "      <td>None</td>\n",
       "      <td>None</td>\n",
       "      <td>Intermediate</td>\n",
       "      <td>DeepLearning.AI</td>\n",
       "      <td>Machine Learning</td>\n",
       "    </tr>\n",
       "    <tr>\n",
       "      <th>2852</th>\n",
       "      <td>신경망 및 딥 러닝</td>\n",
       "      <td>None</td>\n",
       "      <td>None</td>\n",
       "      <td>Intermediate</td>\n",
       "      <td>DeepLearning.AI</td>\n",
       "      <td>Java</td>\n",
       "    </tr>\n",
       "    <tr>\n",
       "      <th>1968</th>\n",
       "      <td>컨볼루션 신경망</td>\n",
       "      <td>None</td>\n",
       "      <td>None</td>\n",
       "      <td>Intermediate</td>\n",
       "      <td>DeepLearning.AI</td>\n",
       "      <td>Machine Learning</td>\n",
       "    </tr>\n",
       "    <tr>\n",
       "      <th>2844</th>\n",
       "      <td>컨볼루션 신경망</td>\n",
       "      <td>None</td>\n",
       "      <td>None</td>\n",
       "      <td>Intermediate</td>\n",
       "      <td>DeepLearning.AI</td>\n",
       "      <td>Java</td>\n",
       "    </tr>\n",
       "  </tbody>\n",
       "</table>\n",
       "<p>1208 rows × 6 columns</p>\n",
       "</div>"
      ],
      "text/plain": [
       "                                      course rating students         level  \\\n",
       "860       2.- El Cálculo - Modelo Cuadrático    4.8   16 mil         Mixed   \n",
       "1955      2.- El Cálculo - Modelo Cuadrático    4.8   16 mil         Mixed   \n",
       "764   AI Capstone Project with Deep Learning    4.5   10 mil      Advanced   \n",
       "1704  AI Capstone Project with Deep Learning    4.5   10 mil      Advanced   \n",
       "1368                         AI For Everyone    4.8  750 mil      Beginner   \n",
       "...                                      ...    ...      ...           ...   \n",
       "1932                            모두를 위한 머신 러닝   None     None      Beginner   \n",
       "1940                              신경망 및 딥 러닝   None     None  Intermediate   \n",
       "2852                              신경망 및 딥 러닝   None     None  Intermediate   \n",
       "1968                                컨볼루션 신경망   None     None  Intermediate   \n",
       "2844                                컨볼루션 신경망   None     None  Intermediate   \n",
       "\n",
       "                    university            skills  \n",
       "860   Tecnológico de Monterrey            Python  \n",
       "1955  Tecnológico de Monterrey  Machine Learning  \n",
       "764                        IBM            Python  \n",
       "1704                       IBM  Machine Learning  \n",
       "1368           DeepLearning.AI  Machine Learning  \n",
       "...                        ...               ...  \n",
       "1932      University of London  Machine Learning  \n",
       "1940           DeepLearning.AI  Machine Learning  \n",
       "2852           DeepLearning.AI              Java  \n",
       "1968           DeepLearning.AI  Machine Learning  \n",
       "2844           DeepLearning.AI              Java  \n",
       "\n",
       "[1208 rows x 6 columns]"
      ]
     },
     "execution_count": 25,
     "metadata": {},
     "output_type": "execute_result"
    }
   ],
   "source": [
    "duplicated"
   ]
  },
  {
   "cell_type": "code",
   "execution_count": 26,
   "id": "6643a0b1",
   "metadata": {},
   "outputs": [],
   "source": [
    "# For the moment in time, I do not drop any row but when I face EDA I will have in mind that I have courses duplicated and\n",
    "# probably, I will have to groupby course when the analysis requires it."
   ]
  },
  {
   "cell_type": "code",
   "execution_count": 27,
   "id": "2f4d1c83",
   "metadata": {},
   "outputs": [],
   "source": [
    "# Tengo cursos duplicados en mis diferentes búsquedas.\n",
    "# Por ahora lo dejo indicado así y ya sé que de cara al EDA tendré que agrupar cuando me interese un análisis por curso."
   ]
  },
  {
   "cell_type": "code",
   "execution_count": 28,
   "id": "b3fea036",
   "metadata": {},
   "outputs": [],
   "source": [
    "# Here I export to csv as it is going to be useful for EDA."
   ]
  },
  {
   "cell_type": "code",
   "execution_count": 29,
   "id": "48146857",
   "metadata": {},
   "outputs": [],
   "source": [
    "duplicated.to_csv(\"duplicated.csv\")"
   ]
  },
  {
   "cell_type": "markdown",
   "id": "e439e620",
   "metadata": {},
   "source": [
    "### Rating Column"
   ]
  },
  {
   "cell_type": "code",
   "execution_count": 30,
   "id": "a74e647b",
   "metadata": {},
   "outputs": [],
   "source": [
    "# Transform Rating column to numeric as well as \"None\" string to nan data."
   ]
  },
  {
   "cell_type": "code",
   "execution_count": 31,
   "id": "49cbde70",
   "metadata": {},
   "outputs": [],
   "source": [
    "# Hago la columna Rating numérica y convierto mi string \"None\" en un nan"
   ]
  },
  {
   "cell_type": "code",
   "execution_count": 32,
   "id": "3cbca6ef",
   "metadata": {},
   "outputs": [
    {
     "data": {
      "text/plain": [
       "array(['4.6', '4.8', '4.7', '4.4', '4.3', '4.5', '4.9', 'None', '5',\n",
       "       '3.9', '4.2', '4.1', '3.7', '4', '3.8', '3.4', '3', '3.3', '3.1',\n",
       "       '2.8', '3.2', '3.6', '3.5', '2.3'], dtype=object)"
      ]
     },
     "execution_count": 32,
     "metadata": {},
     "output_type": "execute_result"
    }
   ],
   "source": [
    "courses.rating.unique()"
   ]
  },
  {
   "cell_type": "code",
   "execution_count": 33,
   "id": "2fe03bd3",
   "metadata": {},
   "outputs": [],
   "source": [
    "courses['rating'] = pd.to_numeric(courses.rating, errors='coerce')"
   ]
  },
  {
   "cell_type": "code",
   "execution_count": 34,
   "id": "1760cb5a",
   "metadata": {},
   "outputs": [
    {
     "data": {
      "text/plain": [
       "array([4.6, 4.8, 4.7, 4.4, 4.3, 4.5, 4.9, nan, 5. , 3.9, 4.2, 4.1, 3.7,\n",
       "       4. , 3.8, 3.4, 3. , 3.3, 3.1, 2.8, 3.2, 3.6, 3.5, 2.3])"
      ]
     },
     "execution_count": 34,
     "metadata": {},
     "output_type": "execute_result"
    }
   ],
   "source": [
    "courses.rating.unique()"
   ]
  },
  {
   "cell_type": "markdown",
   "id": "f190bc26",
   "metadata": {},
   "source": [
    "### Level Column"
   ]
  },
  {
   "cell_type": "code",
   "execution_count": 35,
   "id": "0256461c",
   "metadata": {},
   "outputs": [],
   "source": [
    "# Transform \"None\" string to None. For my analysis, it does not worth transform this column into numeric values."
   ]
  },
  {
   "cell_type": "code",
   "execution_count": 36,
   "id": "88a08fdd",
   "metadata": {},
   "outputs": [
    {
     "data": {
      "text/plain": [
       "array(['Beginner', 'Intermediate', 'Mixed', 'Advanced', 'None'],\n",
       "      dtype=object)"
      ]
     },
     "execution_count": 36,
     "metadata": {},
     "output_type": "execute_result"
    }
   ],
   "source": [
    "courses.level.unique()"
   ]
  },
  {
   "cell_type": "code",
   "execution_count": 37,
   "id": "d2a83805",
   "metadata": {},
   "outputs": [],
   "source": [
    "courses['level'].replace({\"None\":None}, inplace=True)"
   ]
  },
  {
   "cell_type": "code",
   "execution_count": 38,
   "id": "14efa56e",
   "metadata": {},
   "outputs": [
    {
     "data": {
      "text/plain": [
       "array(['Beginner', 'Intermediate', 'Mixed', 'Advanced', None],\n",
       "      dtype=object)"
      ]
     },
     "execution_count": 38,
     "metadata": {},
     "output_type": "execute_result"
    }
   ],
   "source": [
    "courses.level.unique()"
   ]
  },
  {
   "cell_type": "markdown",
   "id": "7b9902ce",
   "metadata": {},
   "source": [
    "### Students Column"
   ]
  },
  {
   "cell_type": "code",
   "execution_count": 39,
   "id": "986db238",
   "metadata": {},
   "outputs": [],
   "source": [
    "# Transform students column formed by strings into digits."
   ]
  },
  {
   "cell_type": "code",
   "execution_count": 40,
   "id": "27124d53",
   "metadata": {},
   "outputs": [],
   "source": [
    "# Save into variable students a list of unique values of students.\n",
    "students = list(courses.students.unique())"
   ]
  },
  {
   "cell_type": "code",
   "execution_count": 41,
   "id": "ec059020",
   "metadata": {},
   "outputs": [],
   "source": [
    "# Make a first transformation with Regex.\n",
    "lista=[]\n",
    "for i in students:\n",
    "    lista.append(re.sub(\" mil\", \"\", i))"
   ]
  },
  {
   "cell_type": "code",
   "execution_count": 42,
   "id": "25e8dd3c",
   "metadata": {},
   "outputs": [],
   "source": [
    "# Make a second transformation with Regex.\n",
    "lista_2=[]\n",
    "for i in lista:\n",
    "    lista_2.append(re.sub(\",\", \".\", i))"
   ]
  },
  {
   "cell_type": "code",
   "execution_count": 43,
   "id": "faa34c70",
   "metadata": {
    "scrolled": true
   },
   "outputs": [],
   "source": [
    "# Prepare a dictionary to replace directly in column student of dataframe courses.\n",
    "dict_from_list = dict(zip(students, lista_2))"
   ]
  },
  {
   "cell_type": "code",
   "execution_count": 44,
   "id": "3b4b6d09",
   "metadata": {},
   "outputs": [],
   "source": [
    "courses=courses.replace({\"students\": dict_from_list})"
   ]
  },
  {
   "cell_type": "code",
   "execution_count": 45,
   "id": "a2a759ad",
   "metadata": {},
   "outputs": [],
   "source": [
    "# This dictionary is for another transformation in column of students.\n",
    "\n",
    "dict_={'1.2 m': 1200, '1 m': 1000, '2.7 m':2700, '2.5 m': 2500, '4.7 m':4700, '1.3 m':1300, '1.6 m': 1600, '1.1':1100}"
   ]
  },
  {
   "cell_type": "code",
   "execution_count": 46,
   "id": "2198c3cb",
   "metadata": {},
   "outputs": [],
   "source": [
    "courses=courses.replace({\"students\": dict_})"
   ]
  },
  {
   "cell_type": "code",
   "execution_count": 47,
   "id": "5c2f77aa",
   "metadata": {
    "scrolled": true
   },
   "outputs": [],
   "source": [
    "#courses.students.unique()"
   ]
  },
  {
   "cell_type": "code",
   "execution_count": 48,
   "id": "49b5bb3d",
   "metadata": {},
   "outputs": [],
   "source": [
    "# Now This column is ready to be transformed into numeric values.\n",
    "courses['students'] = pd.to_numeric(courses.students, errors='coerce')"
   ]
  },
  {
   "cell_type": "code",
   "execution_count": 49,
   "id": "5bbd78e0",
   "metadata": {},
   "outputs": [
    {
     "name": "stdout",
     "output_type": "stream",
     "text": [
      "[4.0e+02 6.6e+02 1.4e+02 1.7e+02 5.8e+00 2.8e+01 3.9e+02     nan 8.6e+00\n",
      " 5.0e+00 2.2e+01 1.9e+00 3.0e+02 2.0e+00 1.8e+00 1.1e+01 1.3e+02 4.5e+00\n",
      " 5.6e+01 4.1e+01 1.8e+01 2.0e+01 2.9e+00 1.3e+01 1.1e+02 1.5e+02 5.2e+01\n",
      " 3.2e+00 8.7e+00 2.8e+00 5.9e+01 1.7e+00 6.8e+00 6.2e+00 3.6e+02 3.5e+02\n",
      " 3.5e+01 2.5e+02 4.6e+01 4.3e+01 2.7e+00 2.9e+01 5.0e+01 3.7e+02 1.6e+02\n",
      " 2.4e+02 4.5e+01 9.5e+01 8.2e+01 2.1e+01 1.2e+01 5.7e+00 5.3e+01 3.4e+00\n",
      " 1.5e+00 4.3e+00 1.4e+01 2.4e+00 5.2e+00 6.9e+00 3.3e+00 4.7e+00 2.5e+00\n",
      " 4.2e+00 1.9e+02 2.7e+02 7.0e+01 7.5e+00 4.4e+01 7.6e+00 5.8e+01 2.2e+00\n",
      " 3.6e+00 6.1e+00 4.8e+00 3.5e+00 1.7e+01 5.4e+00 2.3e+00 3.7e+01 5.1e+01\n",
      " 9.8e+00 2.1e+00 3.0e+01 5.3e+00 6.5e+00 7.4e+02 2.0e+02 2.1e+02 2.4e+01\n",
      " 1.0e+02 7.1e+02 4.8e+01 4.1e+00 3.9e+00 1.6e+01 2.7e+03 6.0e+02 5.2e+02\n",
      " 5.7e+02 8.0e+02 2.5e+03 3.8e+02 4.7e+02 7.2e+02 7.3e+01 1.2e+02 4.0e+00\n",
      " 1.6e+00 2.8e+02 2.5e+01 5.0e+02 7.5e+01 4.7e+03 2.3e+02 8.3e+02 3.3e+02\n",
      " 5.4e+01 5.5e+02 4.6e+00 4.1e+02 4.9e+01 2.7e+01 9.7e+01 9.3e+00 2.2e+02\n",
      " 8.5e+01 3.2e+01 3.9e+01 6.2e+01 8.4e+01 6.6e+00 3.6e+01 8.5e+00 9.9e+00\n",
      " 3.3e+01 3.0e+00 3.1e+00 2.6e+00 7.9e+00 5.9e+00 1.0e+01 6.0e+00 8.4e+00\n",
      " 7.7e+00 4.4e+00 9.0e+00 3.7e+00 4.7e+01 7.8e+00 2.6e+01 6.3e+00 6.9e+02\n",
      " 5.3e+02 4.0e+01 7.4e+00 7.0e+00 7.6e+01 8.3e+01 1.2e+03 5.1e+02 6.3e+01\n",
      " 3.1e+01 4.9e+02 1.0e+03 2.6e+02 4.4e+02 8.9e+00 3.4e+02 1.5e+01 3.8e+01\n",
      " 6.9e+01 4.3e+02 9.1e+01 9.3e+01 9.7e+00 9.1e+00 3.8e+00 1.9e+01 2.3e+01\n",
      " 8.0e+00 7.3e+00 9.6e+00 7.1e+00 5.5e+01 5.5e+00 5.6e+00 9.5e+00 6.6e+01\n",
      " 4.2e+01 8.1e+00 8.8e+00 5.9e+02 7.9e+01 6.4e+00 5.7e+01 6.5e+01 9.2e+01\n",
      " 7.2e+00 4.9e+00 8.8e+01 6.7e+00 6.4e+01 2.9e+02 9.2e+00 7.5e+02 6.8e+02\n",
      " 6.1e+02 5.8e+02 6.5e+02 1.8e+02 3.2e+02 8.9e+01 6.1e+01 9.4e+00 8.1e+01\n",
      " 6.7e+01 5.1e+00 8.3e+00 3.4e+01 8.2e+00 9.2e+02 7.4e+01 8.6e+01 4.8e+02\n",
      " 9.4e+01 1.3e+03 5.4e+02 4.6e+02 7.8e+01 7.7e+01 6.0e+01 8.7e+01 7.2e+01\n",
      " 8.0e+01 6.7e+02 4.5e+02 7.9e+02 1.6e+03 9.9e+01 6.3e+02 6.8e+01]\n"
     ]
    }
   ],
   "source": [
    "print(courses.students.unique())"
   ]
  },
  {
   "cell_type": "code",
   "execution_count": 50,
   "id": "7098444d",
   "metadata": {},
   "outputs": [
    {
     "data": {
      "text/html": [
       "<div>\n",
       "<style scoped>\n",
       "    .dataframe tbody tr th:only-of-type {\n",
       "        vertical-align: middle;\n",
       "    }\n",
       "\n",
       "    .dataframe tbody tr th {\n",
       "        vertical-align: top;\n",
       "    }\n",
       "\n",
       "    .dataframe thead th {\n",
       "        text-align: right;\n",
       "    }\n",
       "</style>\n",
       "<table border=\"1\" class=\"dataframe\">\n",
       "  <thead>\n",
       "    <tr style=\"text-align: right;\">\n",
       "      <th></th>\n",
       "      <th>course</th>\n",
       "      <th>rating</th>\n",
       "      <th>students</th>\n",
       "      <th>level</th>\n",
       "      <th>university</th>\n",
       "      <th>skills</th>\n",
       "    </tr>\n",
       "  </thead>\n",
       "  <tbody>\n",
       "    <tr>\n",
       "      <th>0</th>\n",
       "      <td>Learn SQL Basics for Data Science</td>\n",
       "      <td>4.6</td>\n",
       "      <td>400.0</td>\n",
       "      <td>Beginner</td>\n",
       "      <td>University of California, Davis</td>\n",
       "      <td>MySQL</td>\n",
       "    </tr>\n",
       "    <tr>\n",
       "      <th>1</th>\n",
       "      <td>Excel to MySQL: Analytic Techniques for Business</td>\n",
       "      <td>4.6</td>\n",
       "      <td>660.0</td>\n",
       "      <td>Beginner</td>\n",
       "      <td>Duke University</td>\n",
       "      <td>MySQL</td>\n",
       "    </tr>\n",
       "    <tr>\n",
       "      <th>2</th>\n",
       "      <td>Introduction to Structured Query Language (SQL)</td>\n",
       "      <td>4.8</td>\n",
       "      <td>140.0</td>\n",
       "      <td>Intermediate</td>\n",
       "      <td>University of Michigan</td>\n",
       "      <td>MySQL</td>\n",
       "    </tr>\n",
       "    <tr>\n",
       "      <th>3</th>\n",
       "      <td>Managing Big Data with MySQL</td>\n",
       "      <td>4.7</td>\n",
       "      <td>170.0</td>\n",
       "      <td>Mixed</td>\n",
       "      <td>Duke University</td>\n",
       "      <td>MySQL</td>\n",
       "    </tr>\n",
       "    <tr>\n",
       "      <th>4</th>\n",
       "      <td>Building a Dynamic Web App using PHP &amp; MySQL</td>\n",
       "      <td>4.4</td>\n",
       "      <td>5.8</td>\n",
       "      <td>Beginner</td>\n",
       "      <td>Coursera Project Network</td>\n",
       "      <td>MySQL</td>\n",
       "    </tr>\n",
       "  </tbody>\n",
       "</table>\n",
       "</div>"
      ],
      "text/plain": [
       "                                             course  rating  students  \\\n",
       "0                 Learn SQL Basics for Data Science     4.6     400.0   \n",
       "1  Excel to MySQL: Analytic Techniques for Business     4.6     660.0   \n",
       "2   Introduction to Structured Query Language (SQL)     4.8     140.0   \n",
       "3                      Managing Big Data with MySQL     4.7     170.0   \n",
       "4      Building a Dynamic Web App using PHP & MySQL     4.4       5.8   \n",
       "\n",
       "          level                       university skills  \n",
       "0      Beginner  University of California, Davis  MySQL  \n",
       "1      Beginner                  Duke University  MySQL  \n",
       "2  Intermediate           University of Michigan  MySQL  \n",
       "3         Mixed                  Duke University  MySQL  \n",
       "4      Beginner         Coursera Project Network  MySQL  "
      ]
     },
     "execution_count": 50,
     "metadata": {},
     "output_type": "execute_result"
    }
   ],
   "source": [
    "courses.head()"
   ]
  },
  {
   "cell_type": "code",
   "execution_count": 51,
   "id": "305981c8",
   "metadata": {},
   "outputs": [
    {
     "name": "stdout",
     "output_type": "stream",
     "text": [
      "<class 'pandas.core.frame.DataFrame'>\n",
      "RangeIndex: 3140 entries, 0 to 3139\n",
      "Data columns (total 6 columns):\n",
      " #   Column      Non-Null Count  Dtype  \n",
      "---  ------      --------------  -----  \n",
      " 0   course      3140 non-null   object \n",
      " 1   rating      2444 non-null   float64\n",
      " 2   students    2030 non-null   float64\n",
      " 3   level       3096 non-null   object \n",
      " 4   university  3140 non-null   object \n",
      " 5   skills      3140 non-null   object \n",
      "dtypes: float64(2), object(4)\n",
      "memory usage: 147.3+ KB\n"
     ]
    }
   ],
   "source": [
    "courses.info()"
   ]
  },
  {
   "cell_type": "code",
   "execution_count": 52,
   "id": "94db307f",
   "metadata": {},
   "outputs": [
    {
     "data": {
      "text/plain": [
       "(3140, 6)"
      ]
     },
     "execution_count": 52,
     "metadata": {},
     "output_type": "execute_result"
    }
   ],
   "source": [
    "courses.shape"
   ]
  },
  {
   "cell_type": "code",
   "execution_count": 53,
   "id": "83c58524",
   "metadata": {},
   "outputs": [],
   "source": [
    "# Export this dataframe into csv\n",
    "courses.to_csv(\"coursera_cleaned.csv\")"
   ]
  },
  {
   "cell_type": "code",
   "execution_count": null,
   "id": "53893167",
   "metadata": {},
   "outputs": [],
   "source": []
  }
 ],
 "metadata": {
  "kernelspec": {
   "display_name": "ironhack",
   "language": "python",
   "name": "ironhack"
  },
  "language_info": {
   "codemirror_mode": {
    "name": "ipython",
    "version": 3
   },
   "file_extension": ".py",
   "mimetype": "text/x-python",
   "name": "python",
   "nbconvert_exporter": "python",
   "pygments_lexer": "ipython3",
   "version": "3.8.5"
  }
 },
 "nbformat": 4,
 "nbformat_minor": 5
}
