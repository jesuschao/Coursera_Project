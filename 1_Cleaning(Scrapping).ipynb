{
 "cells": [
  {
   "cell_type": "markdown",
   "id": "7e9e479d",
   "metadata": {},
   "source": [
    "# Cleaning"
   ]
  },
  {
   "cell_type": "markdown",
   "id": "9ea326f7",
   "metadata": {},
   "source": [
    "## Import Libraries"
   ]
  },
  {
   "cell_type": "code",
   "execution_count": 1,
   "id": "2d8a1dae",
   "metadata": {},
   "outputs": [],
   "source": [
    "import pandas as pd\n",
    "import re"
   ]
  },
  {
   "cell_type": "code",
   "execution_count": 2,
   "id": "84a1a63a",
   "metadata": {},
   "outputs": [],
   "source": [
    "# Cleaning functions (py file) placed in src folder.\n",
    "import sys\n",
    "sys.path.append(\"/\")\n",
    "from src.cleaning import *"
   ]
  },
  {
   "cell_type": "markdown",
   "id": "1af280df",
   "metadata": {},
   "source": [
    "## Import data from scrapping"
   ]
  },
  {
   "cell_type": "code",
   "execution_count": 3,
   "id": "3e07f6ee",
   "metadata": {},
   "outputs": [],
   "source": [
    "mysql = pd.read_csv(\"mysql.csv\")"
   ]
  },
  {
   "cell_type": "code",
   "execution_count": 4,
   "id": "43c0b29a",
   "metadata": {},
   "outputs": [],
   "source": [
    "mongo = pd.read_csv(\"mongo.csv\")"
   ]
  },
  {
   "cell_type": "code",
   "execution_count": 5,
   "id": "49d1704a",
   "metadata": {},
   "outputs": [],
   "source": [
    "tableau = pd.read_csv(\"tableau.csv\")"
   ]
  },
  {
   "cell_type": "code",
   "execution_count": 6,
   "id": "3932aba7",
   "metadata": {},
   "outputs": [],
   "source": [
    "python = pd.read_csv(\"python.csv\")"
   ]
  },
  {
   "cell_type": "code",
   "execution_count": 7,
   "id": "e640d197",
   "metadata": {},
   "outputs": [],
   "source": [
    "ml = pd.read_csv(\"machine_learning.csv\")"
   ]
  },
  {
   "cell_type": "code",
   "execution_count": 8,
   "id": "c066c04b",
   "metadata": {},
   "outputs": [],
   "source": [
    "java = pd.read_csv(\"java.csv\")"
   ]
  },
  {
   "cell_type": "code",
   "execution_count": 9,
   "id": "83b9ddd8",
   "metadata": {},
   "outputs": [],
   "source": [
    "courses = pd.concat([mysql, mongo, tableau, python, ml, java])"
   ]
  },
  {
   "cell_type": "code",
   "execution_count": 10,
   "id": "620050ff",
   "metadata": {},
   "outputs": [],
   "source": [
    "courses = courses.reset_index()"
   ]
  },
  {
   "cell_type": "code",
   "execution_count": 11,
   "id": "50a7f176",
   "metadata": {},
   "outputs": [],
   "source": [
    "courses.drop('Unnamed: 0', axis=1, inplace=True)"
   ]
  },
  {
   "cell_type": "code",
   "execution_count": 12,
   "id": "ad9fc564",
   "metadata": {},
   "outputs": [],
   "source": [
    "courses.drop('index', axis=1, inplace=True)"
   ]
  },
  {
   "cell_type": "markdown",
   "id": "7e182b32",
   "metadata": {},
   "source": [
    "## Evaluation of data"
   ]
  },
  {
   "cell_type": "code",
   "execution_count": 13,
   "id": "30cf8905",
   "metadata": {},
   "outputs": [
    {
     "data": {
      "text/plain": [
       "(1720, 6)"
      ]
     },
     "execution_count": 13,
     "metadata": {},
     "output_type": "execute_result"
    }
   ],
   "source": [
    "courses.shape"
   ]
  },
  {
   "cell_type": "code",
   "execution_count": 14,
   "id": "60d72b77",
   "metadata": {},
   "outputs": [
    {
     "data": {
      "text/html": [
       "<div>\n",
       "<style scoped>\n",
       "    .dataframe tbody tr th:only-of-type {\n",
       "        vertical-align: middle;\n",
       "    }\n",
       "\n",
       "    .dataframe tbody tr th {\n",
       "        vertical-align: top;\n",
       "    }\n",
       "\n",
       "    .dataframe thead th {\n",
       "        text-align: right;\n",
       "    }\n",
       "</style>\n",
       "<table border=\"1\" class=\"dataframe\">\n",
       "  <thead>\n",
       "    <tr style=\"text-align: right;\">\n",
       "      <th></th>\n",
       "      <th>course</th>\n",
       "      <th>rating</th>\n",
       "      <th>students</th>\n",
       "      <th>level</th>\n",
       "      <th>university</th>\n",
       "      <th>skills</th>\n",
       "    </tr>\n",
       "  </thead>\n",
       "  <tbody>\n",
       "    <tr>\n",
       "      <th>0</th>\n",
       "      <td>Learn SQL Basics for Data Science</td>\n",
       "      <td>4.6</td>\n",
       "      <td>400 mil</td>\n",
       "      <td>Beginner</td>\n",
       "      <td>University of California, Davis</td>\n",
       "      <td>MySQL</td>\n",
       "    </tr>\n",
       "    <tr>\n",
       "      <th>1</th>\n",
       "      <td>Excel to MySQL: Analytic Techniques for Business</td>\n",
       "      <td>4.6</td>\n",
       "      <td>660 mil</td>\n",
       "      <td>Beginner</td>\n",
       "      <td>Duke University</td>\n",
       "      <td>MySQL</td>\n",
       "    </tr>\n",
       "    <tr>\n",
       "      <th>2</th>\n",
       "      <td>Introduction to Structured Query Language (SQL)</td>\n",
       "      <td>4.8</td>\n",
       "      <td>140 mil</td>\n",
       "      <td>Intermediate</td>\n",
       "      <td>University of Michigan</td>\n",
       "      <td>MySQL</td>\n",
       "    </tr>\n",
       "  </tbody>\n",
       "</table>\n",
       "</div>"
      ],
      "text/plain": [
       "                                             course rating students  \\\n",
       "0                 Learn SQL Basics for Data Science    4.6  400 mil   \n",
       "1  Excel to MySQL: Analytic Techniques for Business    4.6  660 mil   \n",
       "2   Introduction to Structured Query Language (SQL)    4.8  140 mil   \n",
       "\n",
       "          level                       university skills  \n",
       "0      Beginner  University of California, Davis  MySQL  \n",
       "1      Beginner                  Duke University  MySQL  \n",
       "2  Intermediate           University of Michigan  MySQL  "
      ]
     },
     "execution_count": 14,
     "metadata": {},
     "output_type": "execute_result"
    }
   ],
   "source": [
    "courses.head(3)"
   ]
  },
  {
   "cell_type": "code",
   "execution_count": 15,
   "id": "6fc47a87",
   "metadata": {},
   "outputs": [
    {
     "name": "stdout",
     "output_type": "stream",
     "text": [
      "<class 'pandas.core.frame.DataFrame'>\n",
      "RangeIndex: 1720 entries, 0 to 1719\n",
      "Data columns (total 6 columns):\n",
      " #   Column      Non-Null Count  Dtype \n",
      "---  ------      --------------  ----- \n",
      " 0   course      1720 non-null   object\n",
      " 1   rating      1720 non-null   object\n",
      " 2   students    1720 non-null   object\n",
      " 3   level       1720 non-null   object\n",
      " 4   university  1720 non-null   object\n",
      " 5   skills      1720 non-null   object\n",
      "dtypes: object(6)\n",
      "memory usage: 80.8+ KB\n"
     ]
    }
   ],
   "source": [
    "courses.info()"
   ]
  },
  {
   "cell_type": "code",
   "execution_count": 16,
   "id": "faaee553",
   "metadata": {},
   "outputs": [],
   "source": [
    "# Check if I have duplicated courses obtained from my different courses search."
   ]
  },
  {
   "cell_type": "code",
   "execution_count": 17,
   "id": "86000b62",
   "metadata": {},
   "outputs": [],
   "source": [
    "# Hago una comprobación para ver si tengo cursos repetidos en mis búsquedas de los diferentes cursos."
   ]
  },
  {
   "cell_type": "code",
   "execution_count": 18,
   "id": "ad354403",
   "metadata": {},
   "outputs": [],
   "source": [
    "no_skills= courses.drop(['skills'], axis=1)"
   ]
  },
  {
   "cell_type": "code",
   "execution_count": 19,
   "id": "a54b7ee3",
   "metadata": {},
   "outputs": [
    {
     "data": {
      "text/html": [
       "<div>\n",
       "<style scoped>\n",
       "    .dataframe tbody tr th:only-of-type {\n",
       "        vertical-align: middle;\n",
       "    }\n",
       "\n",
       "    .dataframe tbody tr th {\n",
       "        vertical-align: top;\n",
       "    }\n",
       "\n",
       "    .dataframe thead th {\n",
       "        text-align: right;\n",
       "    }\n",
       "</style>\n",
       "<table border=\"1\" class=\"dataframe\">\n",
       "  <thead>\n",
       "    <tr style=\"text-align: right;\">\n",
       "      <th></th>\n",
       "      <th>course</th>\n",
       "      <th>rating</th>\n",
       "      <th>students</th>\n",
       "      <th>level</th>\n",
       "      <th>university</th>\n",
       "    </tr>\n",
       "  </thead>\n",
       "  <tbody>\n",
       "    <tr>\n",
       "      <th>0</th>\n",
       "      <td>Learn SQL Basics for Data Science</td>\n",
       "      <td>4.6</td>\n",
       "      <td>400 mil</td>\n",
       "      <td>Beginner</td>\n",
       "      <td>University of California, Davis</td>\n",
       "    </tr>\n",
       "    <tr>\n",
       "      <th>1</th>\n",
       "      <td>Excel to MySQL: Analytic Techniques for Business</td>\n",
       "      <td>4.6</td>\n",
       "      <td>660 mil</td>\n",
       "      <td>Beginner</td>\n",
       "      <td>Duke University</td>\n",
       "    </tr>\n",
       "    <tr>\n",
       "      <th>2</th>\n",
       "      <td>Introduction to Structured Query Language (SQL)</td>\n",
       "      <td>4.8</td>\n",
       "      <td>140 mil</td>\n",
       "      <td>Intermediate</td>\n",
       "      <td>University of Michigan</td>\n",
       "    </tr>\n",
       "    <tr>\n",
       "      <th>3</th>\n",
       "      <td>Managing Big Data with MySQL</td>\n",
       "      <td>4.7</td>\n",
       "      <td>170 mil</td>\n",
       "      <td>Mixed</td>\n",
       "      <td>Duke University</td>\n",
       "    </tr>\n",
       "    <tr>\n",
       "      <th>4</th>\n",
       "      <td>Building a Dynamic Web App using PHP &amp; MySQL</td>\n",
       "      <td>4.4</td>\n",
       "      <td>5,8 mil</td>\n",
       "      <td>Beginner</td>\n",
       "      <td>Coursera Project Network</td>\n",
       "    </tr>\n",
       "  </tbody>\n",
       "</table>\n",
       "</div>"
      ],
      "text/plain": [
       "                                             course rating students  \\\n",
       "0                 Learn SQL Basics for Data Science    4.6  400 mil   \n",
       "1  Excel to MySQL: Analytic Techniques for Business    4.6  660 mil   \n",
       "2   Introduction to Structured Query Language (SQL)    4.8  140 mil   \n",
       "3                      Managing Big Data with MySQL    4.7  170 mil   \n",
       "4      Building a Dynamic Web App using PHP & MySQL    4.4  5,8 mil   \n",
       "\n",
       "          level                       university  \n",
       "0      Beginner  University of California, Davis  \n",
       "1      Beginner                  Duke University  \n",
       "2  Intermediate           University of Michigan  \n",
       "3         Mixed                  Duke University  \n",
       "4      Beginner         Coursera Project Network  "
      ]
     },
     "execution_count": 19,
     "metadata": {},
     "output_type": "execute_result"
    }
   ],
   "source": [
    "no_skills.head()"
   ]
  },
  {
   "cell_type": "code",
   "execution_count": 20,
   "id": "b1f93246",
   "metadata": {},
   "outputs": [
    {
     "name": "stdout",
     "output_type": "stream",
     "text": [
      "[[1000, 1300], [733, 1184], [687, 1063], [722, 1153], [209, 1081], [723, 1154], [300, 1068], [662, 1575], [311, 778], [646, 845], [698, 786], [610, 1008], [699, 1094], [708, 1112], [599, 1029], [275, 776], [346, 794], [477, 1014], [487, 1018], [541, 949], [281, 791, 1501], [737, 1192], [690, 1005], [614, 1139], [143, 1038], [760, 1540], [696, 1084], [659, 1653], [666, 1025], [555, 958], [366, 874], [461, 1618], [4, 1541], [173, 183], [731, 1176], [611, 1092], [726, 1165], [608, 1006], [625, 1287], [1262, 1620], [85, 1595], [691, 1075], [695, 1007], [767, 862], [68, 1574], [10, 382], [64, 481], [720, 1140], [728, 1170], [1096, 1512], [615, 1161], [320, 1009], [749, 1238], [765, 861], [707, 1107], [673, 819], [785, 1477], [274, 1027], [631, 814], [745, 1226], [630, 937], [730, 1174], [667, 773], [734, 1186], [316, 787], [768, 864], [70, 1582], [748, 1232], [516, 1583], [1045, 1608], [171, 181], [290, 1510], [1, 203], [658, 1016], [713, 831], [1104, 1513], [248, 313, 813], [329, 1150], [76, 1481], [75, 1480], [643, 1185], [678, 789], [747, 1229], [618, 1234], [179, 189], [39, 896], [38, 888], [34, 865], [42, 923], [201, 779], [271, 806], [648, 854], [636, 1298], [742, 816], [910, 1571], [176, 186], [175, 185], [302, 788], [715, 1126, 1519], [602, 1032], [288, 793], [312, 999], [278, 782], [600, 1280], [677, 784], [605, 771], [412, 1675], [685, 1060], [44, 245], [111, 1534], [46, 1405], [220, 650], [250, 616], [598, 1026], [384, 1017], [322, 1010], [736, 1188], [684, 1003], [642, 1276], [640, 796], [83, 1670], [61, 617], [326, 1132], [279, 1273], [298, 1619], [689, 815], [645, 842], [638, 1483], [310, 821], [0, 603, 1033], [700, 772], [314, 770, 1311], [619, 849], [711, 829], [571, 975], [559, 963], [496, 905], [639, 775], [633, 995], [739, 840], [609, 826], [459, 797], [686, 822], [753, 853], [297, 800], [142, 292, 997], [717, 811], [606, 774], [704, 827], [697, 1087], [1048, 1281], [635, 1506], [304, 1609], [671, 1034], [702, 1100], [712, 1117], [721, 1143], [393, 1576], [676, 1049], [178, 188], [79, 681, 1054], [172, 182], [692, 1080, 1511], [170, 180], [682, 1002], [672, 1037], [604, 783], [632, 1502], [724, 1157], [272, 812], [443, 1687], [295, 1526], [355, 858], [476, 882], [277, 1004], [270, 1476], [1099, 1516], [80, 1113, 1486], [78, 1585], [177, 187], [743, 810], [680, 1052], [741, 1209], [706, 1011], [449, 1500], [654, 881], [284, 1074], [174, 184], [447, 1597], [705, 1106], [679, 1001], [703, 1101, 1515], [683, 1055], [529, 1387], [649, 855], [321, 1514], [67, 1365], [688, 807], [714, 1123], [282, 1069], [665, 1024], [709, 1114]]\n"
     ]
    }
   ],
   "source": [
    "# These are the duplicated lists\n",
    "df = no_skills[no_skills.duplicated(keep=False)]\n",
    "\n",
    "df = df.groupby(df.columns.tolist()).apply(lambda x: x.index.tolist()).values.tolist()\n",
    "print (df)\n"
   ]
  },
  {
   "cell_type": "code",
   "execution_count": 22,
   "id": "69a56eff",
   "metadata": {},
   "outputs": [],
   "source": [
    "flat_list = []\n",
    "for l in df:\n",
    "    for item in l:\n",
    "        flat_list.append(item)"
   ]
  },
  {
   "cell_type": "code",
   "execution_count": 24,
   "id": "c5ec0033",
   "metadata": {},
   "outputs": [],
   "source": [
    "duplicated = courses.iloc[flat_list]"
   ]
  },
  {
   "cell_type": "code",
   "execution_count": 25,
   "id": "a3d1cced",
   "metadata": {},
   "outputs": [
    {
     "data": {
      "text/html": [
       "<div>\n",
       "<style scoped>\n",
       "    .dataframe tbody tr th:only-of-type {\n",
       "        vertical-align: middle;\n",
       "    }\n",
       "\n",
       "    .dataframe tbody tr th {\n",
       "        vertical-align: top;\n",
       "    }\n",
       "\n",
       "    .dataframe thead th {\n",
       "        text-align: right;\n",
       "    }\n",
       "</style>\n",
       "<table border=\"1\" class=\"dataframe\">\n",
       "  <thead>\n",
       "    <tr style=\"text-align: right;\">\n",
       "      <th></th>\n",
       "      <th>course</th>\n",
       "      <th>rating</th>\n",
       "      <th>students</th>\n",
       "      <th>level</th>\n",
       "      <th>university</th>\n",
       "      <th>skills</th>\n",
       "    </tr>\n",
       "  </thead>\n",
       "  <tbody>\n",
       "    <tr>\n",
       "      <th>1000</th>\n",
       "      <td>AI For Everyone</td>\n",
       "      <td>4.8</td>\n",
       "      <td>750 mil</td>\n",
       "      <td>Beginner</td>\n",
       "      <td>DeepLearning.AI</td>\n",
       "      <td>Machine Learning</td>\n",
       "    </tr>\n",
       "    <tr>\n",
       "      <th>1300</th>\n",
       "      <td>AI For Everyone</td>\n",
       "      <td>4.8</td>\n",
       "      <td>750 mil</td>\n",
       "      <td>Beginner</td>\n",
       "      <td>DeepLearning.AI</td>\n",
       "      <td>Java</td>\n",
       "    </tr>\n",
       "    <tr>\n",
       "      <th>733</th>\n",
       "      <td>AI for Medical Prognosis</td>\n",
       "      <td>4.7</td>\n",
       "      <td>19 mil</td>\n",
       "      <td>Intermediate</td>\n",
       "      <td>DeepLearning.AI</td>\n",
       "      <td>Python</td>\n",
       "    </tr>\n",
       "    <tr>\n",
       "      <th>1184</th>\n",
       "      <td>AI for Medical Prognosis</td>\n",
       "      <td>4.7</td>\n",
       "      <td>19 mil</td>\n",
       "      <td>Intermediate</td>\n",
       "      <td>DeepLearning.AI</td>\n",
       "      <td>Machine Learning</td>\n",
       "    </tr>\n",
       "    <tr>\n",
       "      <th>687</th>\n",
       "      <td>AI for Medicine</td>\n",
       "      <td>4.7</td>\n",
       "      <td>53 mil</td>\n",
       "      <td>Intermediate</td>\n",
       "      <td>DeepLearning.AI</td>\n",
       "      <td>Python</td>\n",
       "    </tr>\n",
       "    <tr>\n",
       "      <th>...</th>\n",
       "      <td>...</td>\n",
       "      <td>...</td>\n",
       "      <td>...</td>\n",
       "      <td>...</td>\n",
       "      <td>...</td>\n",
       "      <td>...</td>\n",
       "    </tr>\n",
       "    <tr>\n",
       "      <th>1069</th>\n",
       "      <td>Программирование на Python</td>\n",
       "      <td>4.5</td>\n",
       "      <td>80 mil</td>\n",
       "      <td>Intermediate</td>\n",
       "      <td>Moscow Institute of Physics and Technology</td>\n",
       "      <td>Machine Learning</td>\n",
       "    </tr>\n",
       "    <tr>\n",
       "      <th>665</th>\n",
       "      <td>التعلّم الآلي باستخدام لغة بايثون</td>\n",
       "      <td>None</td>\n",
       "      <td>None</td>\n",
       "      <td>Intermediate</td>\n",
       "      <td>IBM</td>\n",
       "      <td>Python</td>\n",
       "    </tr>\n",
       "    <tr>\n",
       "      <th>1024</th>\n",
       "      <td>التعلّم الآلي باستخدام لغة بايثون</td>\n",
       "      <td>None</td>\n",
       "      <td>None</td>\n",
       "      <td>Intermediate</td>\n",
       "      <td>IBM</td>\n",
       "      <td>Machine Learning</td>\n",
       "    </tr>\n",
       "    <tr>\n",
       "      <th>709</th>\n",
       "      <td>程序设计与算法</td>\n",
       "      <td>4.8</td>\n",
       "      <td>93 mil</td>\n",
       "      <td>Beginner</td>\n",
       "      <td>Peking University</td>\n",
       "      <td>Python</td>\n",
       "    </tr>\n",
       "    <tr>\n",
       "      <th>1114</th>\n",
       "      <td>程序设计与算法</td>\n",
       "      <td>4.8</td>\n",
       "      <td>93 mil</td>\n",
       "      <td>Beginner</td>\n",
       "      <td>Peking University</td>\n",
       "      <td>Machine Learning</td>\n",
       "    </tr>\n",
       "  </tbody>\n",
       "</table>\n",
       "<p>414 rows × 6 columns</p>\n",
       "</div>"
      ],
      "text/plain": [
       "                                 course rating students         level  \\\n",
       "1000                    AI For Everyone    4.8  750 mil      Beginner   \n",
       "1300                    AI For Everyone    4.8  750 mil      Beginner   \n",
       "733            AI for Medical Prognosis    4.7   19 mil  Intermediate   \n",
       "1184           AI for Medical Prognosis    4.7   19 mil  Intermediate   \n",
       "687                     AI for Medicine    4.7   53 mil  Intermediate   \n",
       "...                                 ...    ...      ...           ...   \n",
       "1069         Программирование на Python    4.5   80 mil  Intermediate   \n",
       "665   التعلّم الآلي باستخدام لغة بايثون   None     None  Intermediate   \n",
       "1024  التعلّم الآلي باستخدام لغة بايثون   None     None  Intermediate   \n",
       "709                             程序设计与算法    4.8   93 mil      Beginner   \n",
       "1114                            程序设计与算法    4.8   93 mil      Beginner   \n",
       "\n",
       "                                      university            skills  \n",
       "1000                             DeepLearning.AI  Machine Learning  \n",
       "1300                             DeepLearning.AI              Java  \n",
       "733                              DeepLearning.AI            Python  \n",
       "1184                             DeepLearning.AI  Machine Learning  \n",
       "687                              DeepLearning.AI            Python  \n",
       "...                                          ...               ...  \n",
       "1069  Moscow Institute of Physics and Technology  Machine Learning  \n",
       "665                                          IBM            Python  \n",
       "1024                                         IBM  Machine Learning  \n",
       "709                            Peking University            Python  \n",
       "1114                           Peking University  Machine Learning  \n",
       "\n",
       "[414 rows x 6 columns]"
      ]
     },
     "execution_count": 25,
     "metadata": {},
     "output_type": "execute_result"
    }
   ],
   "source": [
    "duplicated"
   ]
  },
  {
   "cell_type": "code",
   "execution_count": 75,
   "id": "9e835149",
   "metadata": {},
   "outputs": [],
   "source": [
    "# For the moment in time, I do not drop any row but when I face EDA I will have in mind that I have courses duplicated and\n",
    "# probably, I will have to groupby course when the analysis requires it."
   ]
  },
  {
   "cell_type": "code",
   "execution_count": 76,
   "id": "1fa493fd",
   "metadata": {},
   "outputs": [],
   "source": [
    "# Tengo cursos duplicados en mis diferentes búsquedas.\n",
    "# Por ahora lo dejo indicado así y ya sé que de cara al EDA tendré que agrupar cuando me interese un análisis por curso."
   ]
  },
  {
   "cell_type": "code",
   "execution_count": null,
   "id": "e676745f",
   "metadata": {},
   "outputs": [],
   "source": [
    "# Here I export to csv as it is going to be useful for EDA."
   ]
  },
  {
   "cell_type": "code",
   "execution_count": 26,
   "id": "ea0871b3",
   "metadata": {},
   "outputs": [],
   "source": [
    "duplicated.to_csv(\"duplicated.csv\")"
   ]
  },
  {
   "cell_type": "markdown",
   "id": "41dfe92a",
   "metadata": {},
   "source": [
    "### Rating Column"
   ]
  },
  {
   "cell_type": "code",
   "execution_count": 77,
   "id": "15d9c253",
   "metadata": {},
   "outputs": [],
   "source": [
    "# Transform Rating column to numeric as well as \"None\" string to nan data."
   ]
  },
  {
   "cell_type": "code",
   "execution_count": 78,
   "id": "2483f8b6",
   "metadata": {},
   "outputs": [],
   "source": [
    "# Hago la columna Rating numérica y convierto mi string \"None\" en un nan"
   ]
  },
  {
   "cell_type": "code",
   "execution_count": 79,
   "id": "7420d6d6",
   "metadata": {},
   "outputs": [
    {
     "data": {
      "text/plain": [
       "array(['4.6', '4.8', '4.7', '4.4', '4.3', '4.5', '4.9', 'None', '5',\n",
       "       '3.9', '4.2', '4.1', '3.7', '4', '3.8', '3.4', '3', '3.2', '3.3',\n",
       "       '3.1', '2.5', '3.6', '2.3', '3.5'], dtype=object)"
      ]
     },
     "execution_count": 79,
     "metadata": {},
     "output_type": "execute_result"
    }
   ],
   "source": [
    "courses.rating.unique()"
   ]
  },
  {
   "cell_type": "code",
   "execution_count": 80,
   "id": "bb7f6e97",
   "metadata": {},
   "outputs": [],
   "source": [
    "courses['rating'] = pd.to_numeric(courses.rating, errors='coerce')"
   ]
  },
  {
   "cell_type": "code",
   "execution_count": 81,
   "id": "0edc5305",
   "metadata": {},
   "outputs": [
    {
     "data": {
      "text/plain": [
       "array([4.6, 4.8, 4.7, 4.4, 4.3, 4.5, 4.9, nan, 5. , 3.9, 4.2, 4.1, 3.7,\n",
       "       4. , 3.8, 3.4, 3. , 3.2, 3.3, 3.1, 2.5, 3.6, 2.3, 3.5])"
      ]
     },
     "execution_count": 81,
     "metadata": {},
     "output_type": "execute_result"
    }
   ],
   "source": [
    "courses.rating.unique()"
   ]
  },
  {
   "cell_type": "markdown",
   "id": "f8bd074c",
   "metadata": {},
   "source": [
    "### Level Column"
   ]
  },
  {
   "cell_type": "code",
   "execution_count": 82,
   "id": "013a6035",
   "metadata": {},
   "outputs": [],
   "source": [
    "# Transform \"None\" string to None. For my analysis, it does not worth transform this column into numeric values."
   ]
  },
  {
   "cell_type": "code",
   "execution_count": 83,
   "id": "acd2308c",
   "metadata": {},
   "outputs": [
    {
     "data": {
      "text/plain": [
       "array(['Beginner', 'Intermediate', 'Mixed', 'Advanced', 'None'],\n",
       "      dtype=object)"
      ]
     },
     "execution_count": 83,
     "metadata": {},
     "output_type": "execute_result"
    }
   ],
   "source": [
    "courses.level.unique()"
   ]
  },
  {
   "cell_type": "code",
   "execution_count": 84,
   "id": "b6ed3b80",
   "metadata": {},
   "outputs": [],
   "source": [
    "courses['level'].replace({\"None\":None}, inplace=True)"
   ]
  },
  {
   "cell_type": "code",
   "execution_count": 85,
   "id": "ff6e2da0",
   "metadata": {},
   "outputs": [
    {
     "data": {
      "text/plain": [
       "array(['Beginner', 'Intermediate', 'Mixed', 'Advanced', None],\n",
       "      dtype=object)"
      ]
     },
     "execution_count": 85,
     "metadata": {},
     "output_type": "execute_result"
    }
   ],
   "source": [
    "courses.level.unique()"
   ]
  },
  {
   "cell_type": "markdown",
   "id": "ff1d3c3f",
   "metadata": {},
   "source": [
    "### Students Column"
   ]
  },
  {
   "cell_type": "code",
   "execution_count": 86,
   "id": "50016ed9",
   "metadata": {},
   "outputs": [],
   "source": [
    "# Transform students column formed by strings into digits."
   ]
  },
  {
   "cell_type": "code",
   "execution_count": 87,
   "id": "4db9b6af",
   "metadata": {},
   "outputs": [],
   "source": [
    "# Save into variable students a list of unique values of students.\n",
    "students = list(courses.students.unique())"
   ]
  },
  {
   "cell_type": "code",
   "execution_count": 88,
   "id": "cf816a82",
   "metadata": {},
   "outputs": [],
   "source": [
    "# Make a first transformation with Regex.\n",
    "lista=[]\n",
    "for i in students:\n",
    "    lista.append(re.sub(\" mil\", \"\", i))"
   ]
  },
  {
   "cell_type": "code",
   "execution_count": 89,
   "id": "9cf89b93",
   "metadata": {},
   "outputs": [],
   "source": [
    "# Make a second transformation with Regex.\n",
    "lista_2=[]\n",
    "for i in lista:\n",
    "    lista_2.append(re.sub(\",\", \".\", i))"
   ]
  },
  {
   "cell_type": "code",
   "execution_count": 90,
   "id": "2f7ecbbd",
   "metadata": {
    "scrolled": true
   },
   "outputs": [],
   "source": [
    "# Prepare a dictionary to replace directly in column student of dataframe courses.\n",
    "dict_from_list = dict(zip(students, lista_2))"
   ]
  },
  {
   "cell_type": "code",
   "execution_count": 91,
   "id": "7095b639",
   "metadata": {},
   "outputs": [],
   "source": [
    "courses=courses.replace({\"students\": dict_from_list})"
   ]
  },
  {
   "cell_type": "code",
   "execution_count": 98,
   "id": "e3b040bb",
   "metadata": {},
   "outputs": [],
   "source": [
    "# This dictionary is for another transformation in column of students.\n",
    "\n",
    "dict_={'1.2 m': 1200, '1 m': 1000, '2.7 m':2700, '2.5 m': 2500, '4.7 m':4700, '1.3 m':1300}"
   ]
  },
  {
   "cell_type": "code",
   "execution_count": 99,
   "id": "fdb14b75",
   "metadata": {},
   "outputs": [],
   "source": [
    "courses=courses.replace({\"students\": dict_})"
   ]
  },
  {
   "cell_type": "code",
   "execution_count": 100,
   "id": "d7d18292",
   "metadata": {
    "scrolled": true
   },
   "outputs": [
    {
     "data": {
      "text/plain": [
       "array(['400', '660', '140', '170', '5.8', '28', '390', 'None', '8.6', '5',\n",
       "       '22', '1.9', '300', '2', '1.8', '11', '130', '4.5', '56', '41',\n",
       "       '20', '18', '2.9', '13', '110', '150', '52', '3.2', '8.7', '59',\n",
       "       '2.8', '1.7', '6.8', '6.2', '360', '350', '35', '250', '46', '43',\n",
       "       '2.7', '29', '50', '370', '160', '240', '45', '95', '82', '21',\n",
       "       '12', '5.6', '53', '3.4', '1.5', '4.3', '14', '2.3', '5.2', '6.9',\n",
       "       '3.3', '2.5', '4.7', '4.2', '190', '270', '70', '7.5', '44', '58',\n",
       "       '2.2', '3.6', '6.1', '4.8', '3.5', '17', '5.4', '37', '51', '9.8',\n",
       "       '30', '6.5', '740', '210', '24', '100', '48', '4.1', '3.9', '710',\n",
       "       '16', '2.1', '4', '5.3', 2700, '600', '520', '570', '800', 2500,\n",
       "       '380', 1000, '470', '80', '550', '720', '73', '120', '200', '280',\n",
       "       '25', '830', '500', 4700, '75', '330', '8.4', '54', '230', '4.6',\n",
       "       '410', '49', '27', '97', '9.3', '220', '7.6', '85', '8.5', '32',\n",
       "       '39', '62', '6.6', '15', '84', '36', '33', '9.9', '3', '3.1',\n",
       "       '2.6', '7.9', '5.7', '10', '6', '7.7', '4.4', '9', '1.6', '47',\n",
       "       '5.9', '26', '6.3', '690', '530', '8.9', '40', '94', '7.4', '83',\n",
       "       1200, '510', '63', '31', '2.4', '490', '260', '440', '340', '38',\n",
       "       '69', '430', '91', '93', '9.7', '4.9', '67', '9.1', '3.8', '19',\n",
       "       '23', '8', '7.3', '9.6', '7', '8.8', '64', '290', '9.2', '9.5',\n",
       "       '7.8', '65', '7.1', '6.7', '88', '42', '5.5', '750', '730', '680',\n",
       "       '610', '580', '590', '650', '180', '3.7', '89', '66', '61', '57',\n",
       "       '9.4', '34', '6.4', '5.1', '8.3', '920', '74', '86', '480', 1300,\n",
       "       '540', '460', '77', '81', '78', '60', '72', '92'], dtype=object)"
      ]
     },
     "execution_count": 100,
     "metadata": {},
     "output_type": "execute_result"
    }
   ],
   "source": [
    "courses.students.unique()"
   ]
  },
  {
   "cell_type": "code",
   "execution_count": 101,
   "id": "bac26d48",
   "metadata": {},
   "outputs": [],
   "source": [
    "# Now This column is ready to be transformed into numeric values.\n",
    "courses['students'] = pd.to_numeric(courses.students, errors='coerce')"
   ]
  },
  {
   "cell_type": "code",
   "execution_count": 102,
   "id": "25999824",
   "metadata": {},
   "outputs": [
    {
     "data": {
      "text/plain": [
       "array([4.0e+02, 6.6e+02, 1.4e+02, 1.7e+02, 5.8e+00, 2.8e+01, 3.9e+02,\n",
       "           nan, 8.6e+00, 5.0e+00, 2.2e+01, 1.9e+00, 3.0e+02, 2.0e+00,\n",
       "       1.8e+00, 1.1e+01, 1.3e+02, 4.5e+00, 5.6e+01, 4.1e+01, 2.0e+01,\n",
       "       1.8e+01, 2.9e+00, 1.3e+01, 1.1e+02, 1.5e+02, 5.2e+01, 3.2e+00,\n",
       "       8.7e+00, 5.9e+01, 2.8e+00, 1.7e+00, 6.8e+00, 6.2e+00, 3.6e+02,\n",
       "       3.5e+02, 3.5e+01, 2.5e+02, 4.6e+01, 4.3e+01, 2.7e+00, 2.9e+01,\n",
       "       5.0e+01, 3.7e+02, 1.6e+02, 2.4e+02, 4.5e+01, 9.5e+01, 8.2e+01,\n",
       "       2.1e+01, 1.2e+01, 5.6e+00, 5.3e+01, 3.4e+00, 1.5e+00, 4.3e+00,\n",
       "       1.4e+01, 2.3e+00, 5.2e+00, 6.9e+00, 3.3e+00, 2.5e+00, 4.7e+00,\n",
       "       4.2e+00, 1.9e+02, 2.7e+02, 7.0e+01, 7.5e+00, 4.4e+01, 5.8e+01,\n",
       "       2.2e+00, 3.6e+00, 6.1e+00, 4.8e+00, 3.5e+00, 1.7e+01, 5.4e+00,\n",
       "       3.7e+01, 5.1e+01, 9.8e+00, 3.0e+01, 6.5e+00, 7.4e+02, 2.1e+02,\n",
       "       2.4e+01, 1.0e+02, 4.8e+01, 4.1e+00, 3.9e+00, 7.1e+02, 1.6e+01,\n",
       "       2.1e+00, 4.0e+00, 5.3e+00, 2.7e+03, 6.0e+02, 5.2e+02, 5.7e+02,\n",
       "       8.0e+02, 2.5e+03, 3.8e+02, 1.0e+03, 4.7e+02, 8.0e+01, 5.5e+02,\n",
       "       7.2e+02, 7.3e+01, 1.2e+02, 2.0e+02, 2.8e+02, 2.5e+01, 8.3e+02,\n",
       "       5.0e+02, 4.7e+03, 7.5e+01, 3.3e+02, 8.4e+00, 5.4e+01, 2.3e+02,\n",
       "       4.6e+00, 4.1e+02, 4.9e+01, 2.7e+01, 9.7e+01, 9.3e+00, 2.2e+02,\n",
       "       7.6e+00, 8.5e+01, 8.5e+00, 3.2e+01, 3.9e+01, 6.2e+01, 6.6e+00,\n",
       "       1.5e+01, 8.4e+01, 3.6e+01, 3.3e+01, 9.9e+00, 3.0e+00, 3.1e+00,\n",
       "       2.6e+00, 7.9e+00, 5.7e+00, 1.0e+01, 6.0e+00, 7.7e+00, 4.4e+00,\n",
       "       9.0e+00, 1.6e+00, 4.7e+01, 5.9e+00, 2.6e+01, 6.3e+00, 6.9e+02,\n",
       "       5.3e+02, 8.9e+00, 4.0e+01, 9.4e+01, 7.4e+00, 8.3e+01, 1.2e+03,\n",
       "       5.1e+02, 6.3e+01, 3.1e+01, 2.4e+00, 4.9e+02, 2.6e+02, 4.4e+02,\n",
       "       3.4e+02, 3.8e+01, 6.9e+01, 4.3e+02, 9.1e+01, 9.3e+01, 9.7e+00,\n",
       "       4.9e+00, 6.7e+01, 9.1e+00, 3.8e+00, 1.9e+01, 2.3e+01, 8.0e+00,\n",
       "       7.3e+00, 9.6e+00, 7.0e+00, 8.8e+00, 6.4e+01, 2.9e+02, 9.2e+00,\n",
       "       9.5e+00, 7.8e+00, 6.5e+01, 7.1e+00, 6.7e+00, 8.8e+01, 4.2e+01,\n",
       "       5.5e+00, 7.5e+02, 7.3e+02, 6.8e+02, 6.1e+02, 5.8e+02, 5.9e+02,\n",
       "       6.5e+02, 1.8e+02, 3.7e+00, 8.9e+01, 6.6e+01, 6.1e+01, 5.7e+01,\n",
       "       9.4e+00, 3.4e+01, 6.4e+00, 5.1e+00, 8.3e+00, 9.2e+02, 7.4e+01,\n",
       "       8.6e+01, 4.8e+02, 1.3e+03, 5.4e+02, 4.6e+02, 7.7e+01, 8.1e+01,\n",
       "       7.8e+01, 6.0e+01, 7.2e+01, 9.2e+01])"
      ]
     },
     "execution_count": 102,
     "metadata": {},
     "output_type": "execute_result"
    }
   ],
   "source": [
    "courses.students.unique()"
   ]
  },
  {
   "cell_type": "code",
   "execution_count": 103,
   "id": "c622258c",
   "metadata": {},
   "outputs": [
    {
     "data": {
      "text/html": [
       "<div>\n",
       "<style scoped>\n",
       "    .dataframe tbody tr th:only-of-type {\n",
       "        vertical-align: middle;\n",
       "    }\n",
       "\n",
       "    .dataframe tbody tr th {\n",
       "        vertical-align: top;\n",
       "    }\n",
       "\n",
       "    .dataframe thead th {\n",
       "        text-align: right;\n",
       "    }\n",
       "</style>\n",
       "<table border=\"1\" class=\"dataframe\">\n",
       "  <thead>\n",
       "    <tr style=\"text-align: right;\">\n",
       "      <th></th>\n",
       "      <th>course</th>\n",
       "      <th>rating</th>\n",
       "      <th>students</th>\n",
       "      <th>level</th>\n",
       "      <th>university</th>\n",
       "      <th>skills</th>\n",
       "    </tr>\n",
       "  </thead>\n",
       "  <tbody>\n",
       "    <tr>\n",
       "      <th>0</th>\n",
       "      <td>Learn SQL Basics for Data Science</td>\n",
       "      <td>4.6</td>\n",
       "      <td>400.0</td>\n",
       "      <td>Beginner</td>\n",
       "      <td>University of California, Davis</td>\n",
       "      <td>MySQL</td>\n",
       "    </tr>\n",
       "    <tr>\n",
       "      <th>1</th>\n",
       "      <td>Excel to MySQL: Analytic Techniques for Business</td>\n",
       "      <td>4.6</td>\n",
       "      <td>660.0</td>\n",
       "      <td>Beginner</td>\n",
       "      <td>Duke University</td>\n",
       "      <td>MySQL</td>\n",
       "    </tr>\n",
       "    <tr>\n",
       "      <th>2</th>\n",
       "      <td>Introduction to Structured Query Language (SQL)</td>\n",
       "      <td>4.8</td>\n",
       "      <td>140.0</td>\n",
       "      <td>Intermediate</td>\n",
       "      <td>University of Michigan</td>\n",
       "      <td>MySQL</td>\n",
       "    </tr>\n",
       "    <tr>\n",
       "      <th>3</th>\n",
       "      <td>Managing Big Data with MySQL</td>\n",
       "      <td>4.7</td>\n",
       "      <td>170.0</td>\n",
       "      <td>Mixed</td>\n",
       "      <td>Duke University</td>\n",
       "      <td>MySQL</td>\n",
       "    </tr>\n",
       "    <tr>\n",
       "      <th>4</th>\n",
       "      <td>Building a Dynamic Web App using PHP &amp; MySQL</td>\n",
       "      <td>4.4</td>\n",
       "      <td>5.8</td>\n",
       "      <td>Beginner</td>\n",
       "      <td>Coursera Project Network</td>\n",
       "      <td>MySQL</td>\n",
       "    </tr>\n",
       "  </tbody>\n",
       "</table>\n",
       "</div>"
      ],
      "text/plain": [
       "                                             course  rating  students  \\\n",
       "0                 Learn SQL Basics for Data Science     4.6     400.0   \n",
       "1  Excel to MySQL: Analytic Techniques for Business     4.6     660.0   \n",
       "2   Introduction to Structured Query Language (SQL)     4.8     140.0   \n",
       "3                      Managing Big Data with MySQL     4.7     170.0   \n",
       "4      Building a Dynamic Web App using PHP & MySQL     4.4       5.8   \n",
       "\n",
       "          level                       university skills  \n",
       "0      Beginner  University of California, Davis  MySQL  \n",
       "1      Beginner                  Duke University  MySQL  \n",
       "2  Intermediate           University of Michigan  MySQL  \n",
       "3         Mixed                  Duke University  MySQL  \n",
       "4      Beginner         Coursera Project Network  MySQL  "
      ]
     },
     "execution_count": 103,
     "metadata": {},
     "output_type": "execute_result"
    }
   ],
   "source": [
    "courses.head()"
   ]
  },
  {
   "cell_type": "code",
   "execution_count": 104,
   "id": "b53f5104",
   "metadata": {},
   "outputs": [
    {
     "name": "stdout",
     "output_type": "stream",
     "text": [
      "<class 'pandas.core.frame.DataFrame'>\n",
      "RangeIndex: 1720 entries, 0 to 1719\n",
      "Data columns (total 6 columns):\n",
      " #   Column      Non-Null Count  Dtype  \n",
      "---  ------      --------------  -----  \n",
      " 0   course      1720 non-null   object \n",
      " 1   rating      1335 non-null   float64\n",
      " 2   students    1132 non-null   float64\n",
      " 3   level       1701 non-null   object \n",
      " 4   university  1720 non-null   object \n",
      " 5   skills      1720 non-null   object \n",
      "dtypes: float64(2), object(4)\n",
      "memory usage: 80.8+ KB\n"
     ]
    }
   ],
   "source": [
    "courses.info()"
   ]
  },
  {
   "cell_type": "code",
   "execution_count": 109,
   "id": "1931f5ea",
   "metadata": {},
   "outputs": [
    {
     "data": {
      "text/plain": [
       "(1720, 6)"
      ]
     },
     "execution_count": 109,
     "metadata": {},
     "output_type": "execute_result"
    }
   ],
   "source": [
    "courses.shape"
   ]
  },
  {
   "cell_type": "code",
   "execution_count": 105,
   "id": "047b080a",
   "metadata": {},
   "outputs": [],
   "source": [
    "# Export this dataframe into csv\n",
    "courses.to_csv(\"coursera_cleaned.csv\")"
   ]
  },
  {
   "cell_type": "code",
   "execution_count": null,
   "id": "9e151aa5",
   "metadata": {},
   "outputs": [],
   "source": []
  }
 ],
 "metadata": {
  "kernelspec": {
   "display_name": "ironhack",
   "language": "python",
   "name": "ironhack"
  },
  "language_info": {
   "codemirror_mode": {
    "name": "ipython",
    "version": 3
   },
   "file_extension": ".py",
   "mimetype": "text/x-python",
   "name": "python",
   "nbconvert_exporter": "python",
   "pygments_lexer": "ipython3",
   "version": "3.8.5"
  }
 },
 "nbformat": 4,
 "nbformat_minor": 5
}
