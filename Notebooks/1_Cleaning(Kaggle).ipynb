{
 "cells": [
  {
   "cell_type": "markdown",
   "metadata": {},
   "source": [
    "# Cleaning"
   ]
  },
  {
   "cell_type": "markdown",
   "metadata": {},
   "source": [
    "### Note; \n",
    "#### Although I have left this JUPYTER NOTEBOOK, finally I have not decided to use the csv. Instead of it, I opted for using Web Scrapping with Selenium."
   ]
  },
  {
   "cell_type": "code",
   "execution_count": 1,
   "metadata": {},
   "outputs": [],
   "source": [
    "import pandas as pd"
   ]
  },
  {
   "cell_type": "code",
   "execution_count": 2,
   "metadata": {},
   "outputs": [],
   "source": [
    "df = pd.read_csv(\"../data/Coursera.csv\")"
   ]
  },
  {
   "cell_type": "code",
   "execution_count": 3,
   "metadata": {},
   "outputs": [
    {
     "data": {
      "text/html": [
       "<div>\n",
       "<style scoped>\n",
       "    .dataframe tbody tr th:only-of-type {\n",
       "        vertical-align: middle;\n",
       "    }\n",
       "\n",
       "    .dataframe tbody tr th {\n",
       "        vertical-align: top;\n",
       "    }\n",
       "\n",
       "    .dataframe thead th {\n",
       "        text-align: right;\n",
       "    }\n",
       "</style>\n",
       "<table border=\"1\" class=\"dataframe\">\n",
       "  <thead>\n",
       "    <tr style=\"text-align: right;\">\n",
       "      <th></th>\n",
       "      <th>Course Name</th>\n",
       "      <th>University</th>\n",
       "      <th>Difficulty Level</th>\n",
       "      <th>Course Rating</th>\n",
       "      <th>Course URL</th>\n",
       "      <th>Course Description</th>\n",
       "      <th>Skills</th>\n",
       "    </tr>\n",
       "  </thead>\n",
       "  <tbody>\n",
       "    <tr>\n",
       "      <th>0</th>\n",
       "      <td>Write A Feature Length Screenplay For Film Or ...</td>\n",
       "      <td>Michigan State University</td>\n",
       "      <td>Beginner</td>\n",
       "      <td>4.8</td>\n",
       "      <td>https://www.coursera.org/learn/write-a-feature...</td>\n",
       "      <td>Write a Full Length Feature Film Script  In th...</td>\n",
       "      <td>Drama  Comedy  peering  screenwriting  film  D...</td>\n",
       "    </tr>\n",
       "    <tr>\n",
       "      <th>1</th>\n",
       "      <td>Business Strategy: Business Model Canvas Analy...</td>\n",
       "      <td>Coursera Project Network</td>\n",
       "      <td>Beginner</td>\n",
       "      <td>4.8</td>\n",
       "      <td>https://www.coursera.org/learn/canvas-analysis...</td>\n",
       "      <td>By the end of this guided project, you will be...</td>\n",
       "      <td>Finance  business plan  persona (user experien...</td>\n",
       "    </tr>\n",
       "    <tr>\n",
       "      <th>2</th>\n",
       "      <td>Silicon Thin Film Solar Cells</td>\n",
       "      <td>�cole Polytechnique</td>\n",
       "      <td>Advanced</td>\n",
       "      <td>4.1</td>\n",
       "      <td>https://www.coursera.org/learn/silicon-thin-fi...</td>\n",
       "      <td>This course consists of a general presentation...</td>\n",
       "      <td>chemistry  physics  Solar Energy  film  lambda...</td>\n",
       "    </tr>\n",
       "    <tr>\n",
       "      <th>3</th>\n",
       "      <td>Finance for Managers</td>\n",
       "      <td>IESE Business School</td>\n",
       "      <td>Intermediate</td>\n",
       "      <td>4.8</td>\n",
       "      <td>https://www.coursera.org/learn/operational-fin...</td>\n",
       "      <td>When it comes to numbers, there is always more...</td>\n",
       "      <td>accounts receivable  dupont analysis  analysis...</td>\n",
       "    </tr>\n",
       "    <tr>\n",
       "      <th>4</th>\n",
       "      <td>Retrieve Data using Single-Table SQL Queries</td>\n",
       "      <td>Coursera Project Network</td>\n",
       "      <td>Beginner</td>\n",
       "      <td>4.6</td>\n",
       "      <td>https://www.coursera.org/learn/single-table-sq...</td>\n",
       "      <td>In this course you�ll learn how to effectively...</td>\n",
       "      <td>Data Analysis  select (sql)  database manageme...</td>\n",
       "    </tr>\n",
       "    <tr>\n",
       "      <th>...</th>\n",
       "      <td>...</td>\n",
       "      <td>...</td>\n",
       "      <td>...</td>\n",
       "      <td>...</td>\n",
       "      <td>...</td>\n",
       "      <td>...</td>\n",
       "      <td>...</td>\n",
       "    </tr>\n",
       "    <tr>\n",
       "      <th>3517</th>\n",
       "      <td>Capstone: Retrieving, Processing, and Visualiz...</td>\n",
       "      <td>University of Michigan</td>\n",
       "      <td>Beginner</td>\n",
       "      <td>4.6</td>\n",
       "      <td>https://www.coursera.org/learn/python-data-vis...</td>\n",
       "      <td>In the capstone, students will build a series ...</td>\n",
       "      <td>Databases  syntax  analysis  web  Data Visuali...</td>\n",
       "    </tr>\n",
       "    <tr>\n",
       "      <th>3518</th>\n",
       "      <td>Patrick Henry: Forgotten Founder</td>\n",
       "      <td>University of Virginia</td>\n",
       "      <td>Intermediate</td>\n",
       "      <td>4.9</td>\n",
       "      <td>https://www.coursera.org/learn/henry</td>\n",
       "      <td>�Give me liberty, or give me death:� Rememberi...</td>\n",
       "      <td>retirement  Causality  career  history of the ...</td>\n",
       "    </tr>\n",
       "    <tr>\n",
       "      <th>3519</th>\n",
       "      <td>Business intelligence and data analytics: Gene...</td>\n",
       "      <td>Macquarie University</td>\n",
       "      <td>Advanced</td>\n",
       "      <td>4.6</td>\n",
       "      <td>https://www.coursera.org/learn/business-intell...</td>\n",
       "      <td>�Megatrends� heavily influence today�s organis...</td>\n",
       "      <td>analytics  tableau software  Business Intellig...</td>\n",
       "    </tr>\n",
       "    <tr>\n",
       "      <th>3520</th>\n",
       "      <td>Rigid Body Dynamics</td>\n",
       "      <td>Korea Advanced Institute of Science and Techno...</td>\n",
       "      <td>Beginner</td>\n",
       "      <td>4.6</td>\n",
       "      <td>https://www.coursera.org/learn/rigid-body-dyna...</td>\n",
       "      <td>This course teaches dynamics, one of the basic...</td>\n",
       "      <td>Angular  Mechanical Design  fluid mechanics  F...</td>\n",
       "    </tr>\n",
       "    <tr>\n",
       "      <th>3521</th>\n",
       "      <td>Architecting with Google Kubernetes Engine: Pr...</td>\n",
       "      <td>Google Cloud</td>\n",
       "      <td>Intermediate</td>\n",
       "      <td>4.7</td>\n",
       "      <td>https://www.coursera.org/learn/deploying-secur...</td>\n",
       "      <td>In this course, \"Architecting with Google Kube...</td>\n",
       "      <td>bigtable  bigquery  SQL  Google Cloud Platform...</td>\n",
       "    </tr>\n",
       "  </tbody>\n",
       "</table>\n",
       "<p>3522 rows × 7 columns</p>\n",
       "</div>"
      ],
      "text/plain": [
       "                                            Course Name  \\\n",
       "0     Write A Feature Length Screenplay For Film Or ...   \n",
       "1     Business Strategy: Business Model Canvas Analy...   \n",
       "2                         Silicon Thin Film Solar Cells   \n",
       "3                                  Finance for Managers   \n",
       "4          Retrieve Data using Single-Table SQL Queries   \n",
       "...                                                 ...   \n",
       "3517  Capstone: Retrieving, Processing, and Visualiz...   \n",
       "3518                   Patrick Henry: Forgotten Founder   \n",
       "3519  Business intelligence and data analytics: Gene...   \n",
       "3520                                Rigid Body Dynamics   \n",
       "3521  Architecting with Google Kubernetes Engine: Pr...   \n",
       "\n",
       "                                             University Difficulty Level  \\\n",
       "0                             Michigan State University         Beginner   \n",
       "1                              Coursera Project Network         Beginner   \n",
       "2                                   �cole Polytechnique         Advanced   \n",
       "3                                  IESE Business School     Intermediate   \n",
       "4                              Coursera Project Network         Beginner   \n",
       "...                                                 ...              ...   \n",
       "3517                             University of Michigan         Beginner   \n",
       "3518                             University of Virginia     Intermediate   \n",
       "3519                               Macquarie University         Advanced   \n",
       "3520  Korea Advanced Institute of Science and Techno...         Beginner   \n",
       "3521                                       Google Cloud     Intermediate   \n",
       "\n",
       "     Course Rating                                         Course URL  \\\n",
       "0              4.8  https://www.coursera.org/learn/write-a-feature...   \n",
       "1              4.8  https://www.coursera.org/learn/canvas-analysis...   \n",
       "2              4.1  https://www.coursera.org/learn/silicon-thin-fi...   \n",
       "3              4.8  https://www.coursera.org/learn/operational-fin...   \n",
       "4              4.6  https://www.coursera.org/learn/single-table-sq...   \n",
       "...            ...                                                ...   \n",
       "3517           4.6  https://www.coursera.org/learn/python-data-vis...   \n",
       "3518           4.9               https://www.coursera.org/learn/henry   \n",
       "3519           4.6  https://www.coursera.org/learn/business-intell...   \n",
       "3520           4.6  https://www.coursera.org/learn/rigid-body-dyna...   \n",
       "3521           4.7  https://www.coursera.org/learn/deploying-secur...   \n",
       "\n",
       "                                     Course Description  \\\n",
       "0     Write a Full Length Feature Film Script  In th...   \n",
       "1     By the end of this guided project, you will be...   \n",
       "2     This course consists of a general presentation...   \n",
       "3     When it comes to numbers, there is always more...   \n",
       "4     In this course you�ll learn how to effectively...   \n",
       "...                                                 ...   \n",
       "3517  In the capstone, students will build a series ...   \n",
       "3518  �Give me liberty, or give me death:� Rememberi...   \n",
       "3519  �Megatrends� heavily influence today�s organis...   \n",
       "3520  This course teaches dynamics, one of the basic...   \n",
       "3521  In this course, \"Architecting with Google Kube...   \n",
       "\n",
       "                                                 Skills  \n",
       "0     Drama  Comedy  peering  screenwriting  film  D...  \n",
       "1     Finance  business plan  persona (user experien...  \n",
       "2     chemistry  physics  Solar Energy  film  lambda...  \n",
       "3     accounts receivable  dupont analysis  analysis...  \n",
       "4     Data Analysis  select (sql)  database manageme...  \n",
       "...                                                 ...  \n",
       "3517  Databases  syntax  analysis  web  Data Visuali...  \n",
       "3518  retirement  Causality  career  history of the ...  \n",
       "3519  analytics  tableau software  Business Intellig...  \n",
       "3520  Angular  Mechanical Design  fluid mechanics  F...  \n",
       "3521  bigtable  bigquery  SQL  Google Cloud Platform...  \n",
       "\n",
       "[3522 rows x 7 columns]"
      ]
     },
     "execution_count": 3,
     "metadata": {},
     "output_type": "execute_result"
    }
   ],
   "source": [
    "df"
   ]
  },
  {
   "cell_type": "code",
   "execution_count": 7,
   "metadata": {},
   "outputs": [
    {
     "name": "stdout",
     "output_type": "stream",
     "text": [
      "<class 'pandas.core.frame.DataFrame'>\n",
      "RangeIndex: 3522 entries, 0 to 3521\n",
      "Data columns (total 7 columns):\n",
      " #   Column              Non-Null Count  Dtype \n",
      "---  ------              --------------  ----- \n",
      " 0   Course Name         3522 non-null   object\n",
      " 1   University          3522 non-null   object\n",
      " 2   Difficulty Level    3522 non-null   object\n",
      " 3   Course Rating       3522 non-null   object\n",
      " 4   Course URL          3522 non-null   object\n",
      " 5   Course Description  3522 non-null   object\n",
      " 6   Skills              3522 non-null   object\n",
      "dtypes: object(7)\n",
      "memory usage: 192.7+ KB\n"
     ]
    }
   ],
   "source": [
    "df.info()"
   ]
  },
  {
   "cell_type": "code",
   "execution_count": 8,
   "metadata": {},
   "outputs": [],
   "source": [
    "df.drop('Course URL', axis=1, inplace=True)"
   ]
  },
  {
   "cell_type": "code",
   "execution_count": 9,
   "metadata": {},
   "outputs": [
    {
     "data": {
      "text/plain": [
       "Course Name           0\n",
       "University            0\n",
       "Difficulty Level      0\n",
       "Course Rating         0\n",
       "Course Description    0\n",
       "Skills                0\n",
       "dtype: int64"
      ]
     },
     "execution_count": 9,
     "metadata": {},
     "output_type": "execute_result"
    }
   ],
   "source": [
    "df.isnull().sum()"
   ]
  },
  {
   "cell_type": "code",
   "execution_count": null,
   "metadata": {},
   "outputs": [],
   "source": []
  },
  {
   "cell_type": "code",
   "execution_count": 10,
   "metadata": {},
   "outputs": [],
   "source": [
    "df.rename(columns={'Course Name':'course_name',\n",
    "                        'University':'university',\n",
    "                  \"Difficulty Level\": \"difficulty_level\",\n",
    "                  \"Course Rating\": \"rating\",\n",
    "                  \"Course Description\": \"description\",\n",
    "                  \"Skills\": \"skills\"},\n",
    "               inplace=True)"
   ]
  },
  {
   "cell_type": "code",
   "execution_count": 11,
   "metadata": {},
   "outputs": [
    {
     "data": {
      "text/html": [
       "<div>\n",
       "<style scoped>\n",
       "    .dataframe tbody tr th:only-of-type {\n",
       "        vertical-align: middle;\n",
       "    }\n",
       "\n",
       "    .dataframe tbody tr th {\n",
       "        vertical-align: top;\n",
       "    }\n",
       "\n",
       "    .dataframe thead th {\n",
       "        text-align: right;\n",
       "    }\n",
       "</style>\n",
       "<table border=\"1\" class=\"dataframe\">\n",
       "  <thead>\n",
       "    <tr style=\"text-align: right;\">\n",
       "      <th></th>\n",
       "      <th>course_name</th>\n",
       "      <th>university</th>\n",
       "      <th>difficulty_level</th>\n",
       "      <th>rating</th>\n",
       "      <th>description</th>\n",
       "      <th>skills</th>\n",
       "    </tr>\n",
       "  </thead>\n",
       "  <tbody>\n",
       "    <tr>\n",
       "      <th>2230</th>\n",
       "      <td>Teach English Now! Theories of Second Language...</td>\n",
       "      <td>Arizona State University</td>\n",
       "      <td>Intermediate</td>\n",
       "      <td>4.9</td>\n",
       "      <td>In this course learners are introduced to seco...</td>\n",
       "      <td>education  language acquisition  language  tea...</td>\n",
       "    </tr>\n",
       "  </tbody>\n",
       "</table>\n",
       "</div>"
      ],
      "text/plain": [
       "                                            course_name  \\\n",
       "2230  Teach English Now! Theories of Second Language...   \n",
       "\n",
       "                    university difficulty_level rating  \\\n",
       "2230  Arizona State University     Intermediate    4.9   \n",
       "\n",
       "                                            description  \\\n",
       "2230  In this course learners are introduced to seco...   \n",
       "\n",
       "                                                 skills  \n",
       "2230  education  language acquisition  language  tea...  "
      ]
     },
     "execution_count": 11,
     "metadata": {},
     "output_type": "execute_result"
    }
   ],
   "source": [
    "df.sample()"
   ]
  },
  {
   "cell_type": "code",
   "execution_count": 12,
   "metadata": {},
   "outputs": [],
   "source": [
    "# Filtrado a través de nombre del curso."
   ]
  },
  {
   "cell_type": "code",
   "execution_count": 13,
   "metadata": {},
   "outputs": [],
   "source": [
    "mysql = df[df.course_name.str.contains('SQL')]"
   ]
  },
  {
   "cell_type": "code",
   "execution_count": 14,
   "metadata": {},
   "outputs": [],
   "source": [
    "mongo = df[df.course_name.str.contains('Mongo')]"
   ]
  },
  {
   "cell_type": "code",
   "execution_count": 15,
   "metadata": {},
   "outputs": [],
   "source": [
    "python = df[df.course_name.str.contains('Python')]"
   ]
  },
  {
   "cell_type": "code",
   "execution_count": 16,
   "metadata": {},
   "outputs": [],
   "source": [
    "power_bi = df[df.course_name.str.contains('Power BI')]"
   ]
  },
  {
   "cell_type": "code",
   "execution_count": 17,
   "metadata": {},
   "outputs": [],
   "source": [
    "tableau = df[df.course_name.str.contains('Tableau')]"
   ]
  },
  {
   "cell_type": "code",
   "execution_count": 18,
   "metadata": {},
   "outputs": [],
   "source": [
    "java = df[df.course_name.str.contains('Java')]"
   ]
  },
  {
   "cell_type": "code",
   "execution_count": 19,
   "metadata": {},
   "outputs": [],
   "source": [
    "data = df[df.course_name.str.contains('Data')]"
   ]
  },
  {
   "cell_type": "code",
   "execution_count": 20,
   "metadata": {},
   "outputs": [],
   "source": [
    "Web = df[df.course_name.str.contains('Web')]"
   ]
  },
  {
   "cell_type": "code",
   "execution_count": 21,
   "metadata": {},
   "outputs": [],
   "source": [
    "cyber = df[df.course_name.str.contains('Cybersecurity')]"
   ]
  },
  {
   "cell_type": "code",
   "execution_count": 22,
   "metadata": {},
   "outputs": [],
   "source": [
    "aws = df[df.course_name.str.contains('AWS')]"
   ]
  },
  {
   "cell_type": "code",
   "execution_count": 23,
   "metadata": {},
   "outputs": [],
   "source": [
    "azure = df[df.course_name.str.contains('Azure')]"
   ]
  },
  {
   "cell_type": "code",
   "execution_count": 24,
   "metadata": {},
   "outputs": [],
   "source": [
    "machine = df[df.course_name.str.contains('Machine Learning')]"
   ]
  },
  {
   "cell_type": "code",
   "execution_count": 25,
   "metadata": {},
   "outputs": [],
   "source": [
    "deep = df[df.course_name.str.contains('Deep Learning')]"
   ]
  },
  {
   "cell_type": "code",
   "execution_count": 26,
   "metadata": {},
   "outputs": [],
   "source": [
    "# Filtrado a través de skills"
   ]
  },
  {
   "cell_type": "code",
   "execution_count": 27,
   "metadata": {},
   "outputs": [],
   "source": [
    "web = df[df.skills.str.contains('Web')]"
   ]
  },
  {
   "cell_type": "code",
   "execution_count": 28,
   "metadata": {},
   "outputs": [],
   "source": [
    "Data = df[df.skills.str.contains('Data')]"
   ]
  },
  {
   "cell_type": "code",
   "execution_count": 29,
   "metadata": {},
   "outputs": [],
   "source": [
    "cloud = df[df.skills.str.contains('Cloud')]"
   ]
  },
  {
   "cell_type": "code",
   "execution_count": 30,
   "metadata": {},
   "outputs": [],
   "source": [
    "management = df[df.skills.str.contains('Management')]"
   ]
  },
  {
   "cell_type": "code",
   "execution_count": 31,
   "metadata": {},
   "outputs": [],
   "source": [
    "apache = df[df.skills.str.contains('Apache')]"
   ]
  },
  {
   "cell_type": "code",
   "execution_count": null,
   "metadata": {},
   "outputs": [],
   "source": []
  },
  {
   "cell_type": "code",
   "execution_count": 32,
   "metadata": {},
   "outputs": [],
   "source": [
    "courses = pd.concat([mysql, mongo, python, power_bi, tableau, java, data, web, Web, Data, cloud, management, cyber, aws, apache, azure, machine, deep], axis=0,)"
   ]
  },
  {
   "cell_type": "code",
   "execution_count": 33,
   "metadata": {},
   "outputs": [
    {
     "data": {
      "text/html": [
       "<div>\n",
       "<style scoped>\n",
       "    .dataframe tbody tr th:only-of-type {\n",
       "        vertical-align: middle;\n",
       "    }\n",
       "\n",
       "    .dataframe tbody tr th {\n",
       "        vertical-align: top;\n",
       "    }\n",
       "\n",
       "    .dataframe thead th {\n",
       "        text-align: right;\n",
       "    }\n",
       "</style>\n",
       "<table border=\"1\" class=\"dataframe\">\n",
       "  <thead>\n",
       "    <tr style=\"text-align: right;\">\n",
       "      <th></th>\n",
       "      <th>course_name</th>\n",
       "      <th>university</th>\n",
       "      <th>difficulty_level</th>\n",
       "      <th>rating</th>\n",
       "      <th>description</th>\n",
       "      <th>skills</th>\n",
       "    </tr>\n",
       "  </thead>\n",
       "  <tbody>\n",
       "    <tr>\n",
       "      <th>4</th>\n",
       "      <td>Retrieve Data using Single-Table SQL Queries</td>\n",
       "      <td>Coursera Project Network</td>\n",
       "      <td>Beginner</td>\n",
       "      <td>4.6</td>\n",
       "      <td>In this course you�ll learn how to effectively...</td>\n",
       "      <td>Data Analysis  select (sql)  database manageme...</td>\n",
       "    </tr>\n",
       "    <tr>\n",
       "      <th>84</th>\n",
       "      <td>Mastering SQL Joins</td>\n",
       "      <td>Coursera Project Network</td>\n",
       "      <td>Advanced</td>\n",
       "      <td>4</td>\n",
       "      <td>In this 2-hour long project-based course, you ...</td>\n",
       "      <td>aggregate function  project  employment  sorti...</td>\n",
       "    </tr>\n",
       "    <tr>\n",
       "      <th>85</th>\n",
       "      <td>Create a Database with the Modeling Tool in My...</td>\n",
       "      <td>Coursera Project Network</td>\n",
       "      <td>Intermediate</td>\n",
       "      <td>4.7</td>\n",
       "      <td>In this course you will use the Modeling and D...</td>\n",
       "      <td>Databases  java annotation  integrated develop...</td>\n",
       "    </tr>\n",
       "    <tr>\n",
       "      <th>92</th>\n",
       "      <td>Create Relational Database Tables Using SQLite...</td>\n",
       "      <td>Coursera Project Network</td>\n",
       "      <td>Beginner</td>\n",
       "      <td>4.7</td>\n",
       "      <td>In this project-based course, you will learn h...</td>\n",
       "      <td>database management systems  Databases  web br...</td>\n",
       "    </tr>\n",
       "    <tr>\n",
       "      <th>119</th>\n",
       "      <td>Managing Big Data with MySQL</td>\n",
       "      <td>Duke University</td>\n",
       "      <td>Beginner</td>\n",
       "      <td>4.6</td>\n",
       "      <td>This course is an introduction to how to use r...</td>\n",
       "      <td>SQL  Leadership and Management  analysis  rela...</td>\n",
       "    </tr>\n",
       "    <tr>\n",
       "      <th>...</th>\n",
       "      <td>...</td>\n",
       "      <td>...</td>\n",
       "      <td>...</td>\n",
       "      <td>...</td>\n",
       "      <td>...</td>\n",
       "      <td>...</td>\n",
       "    </tr>\n",
       "    <tr>\n",
       "      <th>2377</th>\n",
       "      <td>Probabilistic Deep Learning with TensorFlow 2</td>\n",
       "      <td>Imperial College London</td>\n",
       "      <td>Advanced</td>\n",
       "      <td>Not Calibrated</td>\n",
       "      <td>Welcome to this course on Probabilistic Deep L...</td>\n",
       "      <td>Artificial Neural Networks  Machine Learning  ...</td>\n",
       "    </tr>\n",
       "    <tr>\n",
       "      <th>2563</th>\n",
       "      <td>Deep Learning Inference with Azure ML Studio</td>\n",
       "      <td>Coursera Project Network</td>\n",
       "      <td>Beginner</td>\n",
       "      <td>4.7</td>\n",
       "      <td>In this project-based course, you will use the...</td>\n",
       "      <td>web service  inference  Deep Learning  web app...</td>\n",
       "    </tr>\n",
       "    <tr>\n",
       "      <th>2711</th>\n",
       "      <td>Introduction to Deep Learning &amp; Neural Network...</td>\n",
       "      <td>IBM</td>\n",
       "      <td>Beginner</td>\n",
       "      <td>4.7</td>\n",
       "      <td>Looking to start a career in Deep Learning? Lo...</td>\n",
       "      <td>recurrent neural network  Artificial Neural Ne...</td>\n",
       "    </tr>\n",
       "    <tr>\n",
       "      <th>2782</th>\n",
       "      <td>Introduction to Deep Learning</td>\n",
       "      <td>National Research University Higher School of ...</td>\n",
       "      <td>Advanced</td>\n",
       "      <td>4.4</td>\n",
       "      <td>The goal of this course is to give learners ba...</td>\n",
       "      <td>Tensorflow  Convolutional Neural Network  Kera...</td>\n",
       "    </tr>\n",
       "    <tr>\n",
       "      <th>3091</th>\n",
       "      <td>Deep Learning for Business</td>\n",
       "      <td>Yonsei University</td>\n",
       "      <td>Beginner</td>\n",
       "      <td>4.3</td>\n",
       "      <td>Your smartphone, smartwatch, and automobile (i...</td>\n",
       "      <td>Deep Learning  Artificial Neural Networks  her...</td>\n",
       "    </tr>\n",
       "  </tbody>\n",
       "</table>\n",
       "<p>1951 rows × 6 columns</p>\n",
       "</div>"
      ],
      "text/plain": [
       "                                            course_name  \\\n",
       "4          Retrieve Data using Single-Table SQL Queries   \n",
       "84                                  Mastering SQL Joins   \n",
       "85    Create a Database with the Modeling Tool in My...   \n",
       "92    Create Relational Database Tables Using SQLite...   \n",
       "119                        Managing Big Data with MySQL   \n",
       "...                                                 ...   \n",
       "2377      Probabilistic Deep Learning with TensorFlow 2   \n",
       "2563       Deep Learning Inference with Azure ML Studio   \n",
       "2711  Introduction to Deep Learning & Neural Network...   \n",
       "2782                      Introduction to Deep Learning   \n",
       "3091                         Deep Learning for Business   \n",
       "\n",
       "                                             university difficulty_level  \\\n",
       "4                              Coursera Project Network         Beginner   \n",
       "84                             Coursera Project Network         Advanced   \n",
       "85                             Coursera Project Network     Intermediate   \n",
       "92                             Coursera Project Network         Beginner   \n",
       "119                                     Duke University         Beginner   \n",
       "...                                                 ...              ...   \n",
       "2377                            Imperial College London         Advanced   \n",
       "2563                           Coursera Project Network         Beginner   \n",
       "2711                                                IBM         Beginner   \n",
       "2782  National Research University Higher School of ...         Advanced   \n",
       "3091                                  Yonsei University         Beginner   \n",
       "\n",
       "              rating                                        description  \\\n",
       "4                4.6  In this course you�ll learn how to effectively...   \n",
       "84                 4  In this 2-hour long project-based course, you ...   \n",
       "85               4.7  In this course you will use the Modeling and D...   \n",
       "92               4.7  In this project-based course, you will learn h...   \n",
       "119              4.6  This course is an introduction to how to use r...   \n",
       "...              ...                                                ...   \n",
       "2377  Not Calibrated  Welcome to this course on Probabilistic Deep L...   \n",
       "2563             4.7  In this project-based course, you will use the...   \n",
       "2711             4.7  Looking to start a career in Deep Learning? Lo...   \n",
       "2782             4.4  The goal of this course is to give learners ba...   \n",
       "3091             4.3  Your smartphone, smartwatch, and automobile (i...   \n",
       "\n",
       "                                                 skills  \n",
       "4     Data Analysis  select (sql)  database manageme...  \n",
       "84    aggregate function  project  employment  sorti...  \n",
       "85    Databases  java annotation  integrated develop...  \n",
       "92    database management systems  Databases  web br...  \n",
       "119   SQL  Leadership and Management  analysis  rela...  \n",
       "...                                                 ...  \n",
       "2377  Artificial Neural Networks  Machine Learning  ...  \n",
       "2563  web service  inference  Deep Learning  web app...  \n",
       "2711  recurrent neural network  Artificial Neural Ne...  \n",
       "2782  Tensorflow  Convolutional Neural Network  Kera...  \n",
       "3091  Deep Learning  Artificial Neural Networks  her...  \n",
       "\n",
       "[1951 rows x 6 columns]"
      ]
     },
     "execution_count": 33,
     "metadata": {},
     "output_type": "execute_result"
    }
   ],
   "source": [
    "courses"
   ]
  },
  {
   "cell_type": "code",
   "execution_count": 34,
   "metadata": {},
   "outputs": [],
   "source": [
    "courses = courses.drop_duplicates()"
   ]
  },
  {
   "cell_type": "code",
   "execution_count": 36,
   "metadata": {},
   "outputs": [
    {
     "data": {
      "text/plain": [
       "(1268, 6)"
      ]
     },
     "execution_count": 36,
     "metadata": {},
     "output_type": "execute_result"
    }
   ],
   "source": [
    "courses.shape"
   ]
  },
  {
   "cell_type": "code",
   "execution_count": 37,
   "metadata": {},
   "outputs": [],
   "source": [
    "courses = courses.reset_index()"
   ]
  },
  {
   "cell_type": "code",
   "execution_count": 38,
   "metadata": {},
   "outputs": [],
   "source": [
    "courses.drop('index', axis=1, inplace=True)"
   ]
  },
  {
   "cell_type": "code",
   "execution_count": 39,
   "metadata": {},
   "outputs": [
    {
     "data": {
      "text/html": [
       "<div>\n",
       "<style scoped>\n",
       "    .dataframe tbody tr th:only-of-type {\n",
       "        vertical-align: middle;\n",
       "    }\n",
       "\n",
       "    .dataframe tbody tr th {\n",
       "        vertical-align: top;\n",
       "    }\n",
       "\n",
       "    .dataframe thead th {\n",
       "        text-align: right;\n",
       "    }\n",
       "</style>\n",
       "<table border=\"1\" class=\"dataframe\">\n",
       "  <thead>\n",
       "    <tr style=\"text-align: right;\">\n",
       "      <th></th>\n",
       "      <th>course_name</th>\n",
       "      <th>university</th>\n",
       "      <th>difficulty_level</th>\n",
       "      <th>rating</th>\n",
       "      <th>description</th>\n",
       "      <th>skills</th>\n",
       "    </tr>\n",
       "  </thead>\n",
       "  <tbody>\n",
       "    <tr>\n",
       "      <th>1254</th>\n",
       "      <td>Fake News Detection with Machine Learning</td>\n",
       "      <td>Coursera Project Network</td>\n",
       "      <td>Beginner</td>\n",
       "      <td>4.5</td>\n",
       "      <td>In this hands-on project, we will train a Bidi...</td>\n",
       "      <td>face recognition  Long Short-Term Memory  Pyth...</td>\n",
       "    </tr>\n",
       "  </tbody>\n",
       "</table>\n",
       "</div>"
      ],
      "text/plain": [
       "                                    course_name                university  \\\n",
       "1254  Fake News Detection with Machine Learning  Coursera Project Network   \n",
       "\n",
       "     difficulty_level rating  \\\n",
       "1254         Beginner    4.5   \n",
       "\n",
       "                                            description  \\\n",
       "1254  In this hands-on project, we will train a Bidi...   \n",
       "\n",
       "                                                 skills  \n",
       "1254  face recognition  Long Short-Term Memory  Pyth...  "
      ]
     },
     "execution_count": 39,
     "metadata": {},
     "output_type": "execute_result"
    }
   ],
   "source": [
    "courses.sample()"
   ]
  },
  {
   "cell_type": "markdown",
   "metadata": {},
   "source": [
    "# Cleaning"
   ]
  },
  {
   "cell_type": "markdown",
   "metadata": {},
   "source": [
    "### Column; course_name"
   ]
  },
  {
   "cell_type": "code",
   "execution_count": 40,
   "metadata": {},
   "outputs": [
    {
     "data": {
      "text/plain": [
       "1263"
      ]
     },
     "execution_count": 40,
     "metadata": {},
     "output_type": "execute_result"
    }
   ],
   "source": [
    "len(courses.course_name.unique())"
   ]
  },
  {
   "cell_type": "markdown",
   "metadata": {},
   "source": [
    "### Column; University"
   ]
  },
  {
   "cell_type": "code",
   "execution_count": 48,
   "metadata": {},
   "outputs": [
    {
     "name": "stdout",
     "output_type": "stream",
     "text": [
      "['Coursera Project Network', 'Duke University', 'IBM', 'Cloudera', 'Yandex', 'University of California, Davis', 'Amazon Web Services', 'SAS', 'University of Michigan', 'Universidad Nacional Aut�noma de M�xico', 'University of London', 'MongoDB Inc.', 'The Hong Kong University of Science and Technology', 'Rice University', 'Google', 'Nanjing University', 'Wesleyan University', 'Johns Hopkins University', 'EDHEC Business School', 'University of Alberta', 'University of California, Irvine', 'University of Illinois at Urbana-Champaign', 'Ludwig-Maximilians-Universit�t M�nchen (LMU)', 'University of California San Diego', 'Vanderbilt University', 'Google Cloud', 'JetBrains', 'University of Maryland, College Park', 'EIT Digital', 'The University of Edinburgh', 'The University of Sydney', 'Georgia Institute of Technology', 'University of Washington', 'University of California, Santa Cruz', 'Emory University', 'University of Colorado System', 'National Research Tomsk State University', 'The State University of New York', 'Alibaba Cloud Academy', 'Yonsei University', 'CertNexus', 'MathWorks', 'National Research University Higher School of Economics', 'Universiteit Leiden', 'Macquarie University', 'Northeastern University', 'Alberta Machine Intelligence Institute', 'Eindhoven University of Technology', 'University of Colorado Boulder', 'University of Toronto', 'ESSEC Business School', 'University of Amsterdam', '�cole Polytechnique F�d�rale de Lausanne', 'Imperial College London', 'LearnQuest', 'Arizona State University', 'Icahn School of Medicine at Mount Sinai', 'California Institute of the Arts', 'University of New Mexico', 'University of Virginia', 'Michigan State University', 'University of Houston', 'University of Minnesota', 'E-Learning Development Fund', 'Korea Advanced Institute of Science and Technology(KAIST)', 'Association of International Certified Professional Accountants', 'New York University', 'University System of Georgia', 'Shanghai Jiao Tong University', 'University of Florida', 'Princeton University', 'Erasmus University Rotterdam', 'IE Business School', 'University of Cape Town', 'Lund University', 'Rutgers the State University of New Jersey', 'Palo Alto Networks', 'Politecnico di Milano', 'Pohang University of Science and Technology', 'Intel', '(ISC)�', 'The University of Melbourne', 'VMware', 'IESE Business School', 'University of Geneva', 'Columbia University', 'Moscow State Institute of International Relations (MGIMO) / ????? (?????????? ??????????????? ???????? ????????????? ????????? ??? ??????)', 'West Virginia University', 'Technical University of Denmark (DTU)', 'Universit� Bocconi', 'Facebook', 'Case Western Reserve University', 'CentraleSup�lec', 'HEC Paris', 'The Linux Foundation', 'Northwestern University', 'Goldman Sachs', 'ESCP Business School', 'Advancing Women in Product', 'University of Copenhagen', 'University of Leeds', 'Funda��o Instituto de Administra��o', 'UNSW Sydney (The University of New South Wales)', 'Saint Petersburg State University', 'University of Pittsburgh', 'Indian School of Business', 'Peter the Great St. Petersburg Polytechnic University', 'Moscow Institute of Physics and Technology', 'National Taiwan University', 'Autodesk', 'Brightline Initiative', 'The George Washington University', 'SV Academy', 'The Pennsylvania State University', 'New York Institute of Finance', 'Yale University', 'Technion - Israel Institute of Technology', 'Copenhagen Business School', 'Automation Anywhere', 'Atlassian', 'Relay Graduate School of Education', 'Berklee College of Music', 'University of Western Australia', 'University of Manchester', 'Osmosis', 'DeepLearning.AI', 'H2O']\n"
     ]
    }
   ],
   "source": [
    "print(list(courses.university.unique()))"
   ]
  },
  {
   "cell_type": "markdown",
   "metadata": {},
   "source": [
    "### Column; difficulty_level"
   ]
  },
  {
   "cell_type": "code",
   "execution_count": 42,
   "metadata": {},
   "outputs": [
    {
     "data": {
      "text/plain": [
       "['Beginner', 'Advanced', 'Intermediate', 'Conversant', 'Not Calibrated']"
      ]
     },
     "execution_count": 42,
     "metadata": {},
     "output_type": "execute_result"
    }
   ],
   "source": [
    "list(courses.difficulty_level.unique())"
   ]
  },
  {
   "cell_type": "markdown",
   "metadata": {},
   "source": [
    "### Column; rating"
   ]
  },
  {
   "cell_type": "code",
   "execution_count": 43,
   "metadata": {},
   "outputs": [
    {
     "name": "stdout",
     "output_type": "stream",
     "text": [
      "['4.6', '4', '4.7', '4.5', '4.8', '4.4', '4.3', '3.5', '4.2', 'Not Calibrated', '4.9', '5', '3.8', '3.2', '4.1', '3.4', '3.9', '2.6', '3.6', '3.7', '1', '3.3', '3', '2.8', '2.9']\n"
     ]
    }
   ],
   "source": [
    "print(list(courses.rating.unique()))"
   ]
  },
  {
   "cell_type": "markdown",
   "metadata": {},
   "source": [
    "### Columns; description"
   ]
  },
  {
   "cell_type": "code",
   "execution_count": 44,
   "metadata": {},
   "outputs": [],
   "source": [
    "# Esta columna la dejo tal cual está."
   ]
  },
  {
   "cell_type": "code",
   "execution_count": 45,
   "metadata": {},
   "outputs": [],
   "source": [
    "# print(list(courses.description.unique()))"
   ]
  },
  {
   "cell_type": "markdown",
   "metadata": {},
   "source": [
    "### Columns; skills"
   ]
  },
  {
   "cell_type": "code",
   "execution_count": 49,
   "metadata": {},
   "outputs": [],
   "source": [
    "#print(list(courses.skills.unique()))"
   ]
  },
  {
   "cell_type": "code",
   "execution_count": null,
   "metadata": {},
   "outputs": [],
   "source": []
  },
  {
   "cell_type": "code",
   "execution_count": null,
   "metadata": {},
   "outputs": [],
   "source": []
  }
 ],
 "metadata": {
  "kernelspec": {
   "display_name": "ironhack",
   "language": "python",
   "name": "ironhack"
  },
  "language_info": {
   "codemirror_mode": {
    "name": "ipython",
    "version": 3
   },
   "file_extension": ".py",
   "mimetype": "text/x-python",
   "name": "python",
   "nbconvert_exporter": "python",
   "pygments_lexer": "ipython3",
   "version": "3.8.5"
  }
 },
 "nbformat": 4,
 "nbformat_minor": 4
}
